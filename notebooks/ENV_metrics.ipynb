{
 "cells": [
  {
   "cell_type": "code",
   "execution_count": 1,
   "metadata": {},
   "outputs": [],
   "source": [
    "import sys\n",
    "from pathlib import Path\n",
    "from typing import List, Dict\n",
    "\n",
    "from loguru import logger\n",
    "from pyspark.sql import SparkSession, DataFrame\n",
    "from pyspark.sql.functions import udf, col, when"
   ]
  },
  {
   "cell_type": "code",
   "execution_count": 2,
   "metadata": {
    "pycharm": {
     "name": "#%%\n"
    }
   },
   "outputs": [],
   "source": [
    "CONF_LOG_PREFIX = 'CONFLOG'\n",
    "FLST_LOG_PREFIX = 'FLSTLOG'\n",
    "GEO_LOG_PREFIX = 'GEOLOG'\n",
    "LOS_LOG_PREFIX = 'LOSLOG'\n",
    "REG_LOG_PREFIX = 'REGLOG'\n",
    "LOADING_PATH = '../output'\n",
    "DATAFRAMES_NAMES = [CONF_LOG_PREFIX, FLST_LOG_PREFIX, GEO_LOG_PREFIX, LOS_LOG_PREFIX, REG_LOG_PREFIX]"
   ]
  },
  {
   "cell_type": "markdown",
   "metadata": {},
   "source": [
    "Give access to the constants that defines"
   ]
  },
  {
   "cell_type": "code",
   "execution_count": 130,
   "metadata": {
    "pycharm": {
     "name": "#%%\n"
    }
   },
   "outputs": [],
   "source": [
    "sys.path.append(str(Path(Path().absolute().parent, 'platform_code')))\n",
    "from schemas.tables_attributes import *"
   ]
  },
  {
   "cell_type": "code",
   "execution_count": 4,
   "metadata": {
    "pycharm": {
     "name": "#%%\n"
    }
   },
   "outputs": [],
   "source": [
    "def load_dataframes(files_names: List[str], loading_path: str, spark: SparkSession) -> Dict[str, DataFrame]:\n",
    "    \"\"\" Loads the dataframes which macht the file names passed by arguments.\n",
    "    The method read from the config the path were to read the files, which\n",
    "    matches the folder where the files are saved in `save_dataframes_dict()`.\n",
    "\n",
    "    :param files_names: list of the names of the files.\n",
    "    :param loading_path: path were the files are saved.\n",
    "    :param spark: spark session.\n",
    "    :return: dictionary with the dataframes loaded from the files, with the\n",
    "     file name as key.\n",
    "    \"\"\"\n",
    "    dataframes = dict()\n",
    "\n",
    "    for file_name in files_names:\n",
    "        file_path = Path(loading_path, f'{file_name.lower()}.parquet')\n",
    "        logger.info('Loading dataframe from `{}`.', file_path)\n",
    "        df = spark.read.parquet(str(file_path))\n",
    "        dataframes[file_name] = df\n",
    "\n",
    "    return dataframes"
   ]
  },
  {
   "cell_type": "code",
   "execution_count": 5,
   "metadata": {
    "pycharm": {
     "name": "#%%\n"
    }
   },
   "outputs": [],
   "source": [
    "spark = SparkSession.builder.appName('Notebook').getOrCreate()"
   ]
  },
  {
   "cell_type": "code",
   "execution_count": 6,
   "metadata": {
    "pycharm": {
     "name": "#%%\n"
    }
   },
   "outputs": [
    {
     "name": "stderr",
     "output_type": "stream",
     "text": [
      "2022-03-25 11:05:40.840 | INFO     | __main__:load_dataframes:16 - Loading dataframe from `..\\output\\conflog.parquet`.\n",
      "2022-03-25 11:05:46.134 | INFO     | __main__:load_dataframes:16 - Loading dataframe from `..\\output\\flstlog.parquet`.\n",
      "2022-03-25 11:05:46.418 | INFO     | __main__:load_dataframes:16 - Loading dataframe from `..\\output\\geolog.parquet`.\n",
      "2022-03-25 11:05:46.590 | INFO     | __main__:load_dataframes:16 - Loading dataframe from `..\\output\\loslog.parquet`.\n",
      "2022-03-25 11:05:46.781 | INFO     | __main__:load_dataframes:16 - Loading dataframe from `..\\output\\reglog.parquet`.\n"
     ]
    }
   ],
   "source": [
    "input_dataframes = load_dataframes(DATAFRAMES_NAMES, LOADING_PATH, spark)"
   ]
  },
  {
   "cell_type": "code",
   "execution_count": 7,
   "metadata": {
    "pycharm": {
     "name": "#%%\n"
    }
   },
   "outputs": [
    {
     "name": "stdout",
     "output_type": "stream",
     "text": [
      "+------+------------------+---------------+-----+------------------+-----------+-----------+\n",
      "|REG_ID|          Scenario|Simulation_time| ACID|               ALT|        LAT|        LON|\n",
      "+------+------------------+---------------+-----+------------------+-----------+-----------+\n",
      "| 76800|1_very_low_40_8_R2|         2880.0|D2320|             45.72|48.15636078|16.32453111|\n",
      "| 76801|1_very_low_40_8_R2|         2880.0|D2340|128.01600000000002|48.17504097|16.36041054|\n",
      "| 76802|1_very_low_40_8_R2|         2880.0|D2337|            73.152|48.23478639|16.42459103|\n",
      "| 76803|1_very_low_40_8_R2|         2880.0|D2342|  136.185390000024|48.19298318|16.39227946|\n",
      "| 76804|1_very_low_40_8_R2|         2880.0|D2343|          31.83255|48.21440571|16.35687219|\n",
      "| 76805|1_very_low_40_8_R2|         2880.0|D2346|            73.152|48.19509474|16.39687844|\n",
      "| 76806|1_very_low_40_8_R2|         2880.0|D2358|            9.8679|48.20259996|16.30276413|\n",
      "| 76807|1_very_low_40_8_R2|         2880.0|D2364|            36.576|48.17207706|16.33102202|\n",
      "| 76808|1_very_low_40_8_R2|         2880.0|D2368|             9.144| 48.2029329|16.40249793|\n",
      "| 76809|1_very_low_40_8_R2|         2880.0|D2366|27.432000000000002|48.18712748|16.39761369|\n",
      "| 76810|1_very_low_40_8_R2|         2880.0|D2374| 64.00800000000001|48.25741419|16.36644796|\n",
      "| 76811|1_very_low_40_8_R2|         2880.0|D2387|54.864000000000004|48.21769203| 16.3388323|\n",
      "| 76812|1_very_low_40_8_R2|         2880.0|D2390|49.444609999583996|48.21000289|16.35541169|\n",
      "| 76813|1_very_low_40_8_R2|         2880.0|D2392| 64.00800000000001|48.24848122|16.30479889|\n",
      "| 76814|1_very_low_40_8_R2|         2880.0|D2396|   134.84661000144|48.20109701|16.36781158|\n",
      "| 76815|1_very_low_40_8_R2|         2880.0|D2399|            36.576|48.16658901|16.30623433|\n",
      "| 76816|1_very_low_40_8_R2|         2880.0|D2400| 88.27061000148001| 48.1921775|16.39427255|\n",
      "| 76817|1_very_low_40_8_R2|         2880.0|D2405|27.432000000000002|48.20279291|16.34245164|\n",
      "| 76818|1_very_low_40_8_R2|         2880.0|D2421|54.864000000000004|48.18905068|16.35061377|\n",
      "| 76819|1_very_low_40_8_R2|         2880.0|D2422|          82.08645|48.21666121|16.36242682|\n",
      "+------+------------------+---------------+-----+------------------+-----------+-----------+\n",
      "only showing top 20 rows\n",
      "\n"
     ]
    }
   ],
   "source": [
    "input_dataframes[REG_LOG_PREFIX].show()"
   ]
  },
  {
   "cell_type": "code",
   "execution_count": 8,
   "metadata": {},
   "outputs": [],
   "source": [
    "#ENV-1"
   ]
  },
  {
   "cell_type": "code",
   "execution_count": 16,
   "metadata": {},
   "outputs": [],
   "source": [
    "#ENV-2\n",
    "import geopy.distance\n",
    "from pyspark.sql.functions import *\n",
    "from pyspark.sql import Window\n",
    "import pyspark.sql.functions as F"
   ]
  },
  {
   "cell_type": "code",
   "execution_count": 10,
   "metadata": {},
   "outputs": [],
   "source": [
    "@udf\n",
    "def get_coordinates_distance(origin_latitude: float, origin_longitude: float,\n",
    "                             destination_latitude: float, destination_longitude: float) -> float:\n",
    "    \"\"\" Calculates the distance in meters between two world coordinates.\n",
    "\n",
    "    :param origin_latitude: origin latitude point.\n",
    "    :param origin_longitude: origin longitude point.\n",
    "    :param destination_latitude: destination latitude point.\n",
    "    :param destination_longitude: destination longitude point.\n",
    "    :return: distance in meters.\n",
    "    \"\"\"\n",
    "    origin_tuple = (origin_latitude, origin_longitude)\n",
    "    destination_tuple = (destination_latitude, destination_longitude)\n",
    "    # TODO: direct distance calculation (in meters) between two points, is this approach correct?\n",
    "    return geopy.distance.distance(origin_tuple, destination_tuple).m"
   ]
  },
  {
   "cell_type": "code",
   "execution_count": 11,
   "metadata": {},
   "outputs": [
    {
     "name": "stdout",
     "output_type": "stream",
     "text": [
      "+------------------+-----+-----+\n",
      "|          Scenario| ACID|count|\n",
      "+------------------+-----+-----+\n",
      "|1_very_low_40_8_R2|D2366|   59|\n",
      "|1_very_low_40_8_R2|D3665|   28|\n",
      "|1_very_low_40_8_R2|D3746|   11|\n",
      "|1_very_low_40_8_R2|D3840|   13|\n",
      "|1_very_low_40_8_R2|D4165|    9|\n",
      "|1_very_low_40_8_R2|D4192|   14|\n",
      "|1_very_low_40_8_R2|D4233|   14|\n",
      "|1_very_low_40_8_R2|D4531|    6|\n",
      "|1_very_low_40_8_W1|D3157|   17|\n",
      "|1_very_low_40_8_W1|D4130|   16|\n",
      "|1_very_low_40_8_W1|D4261|   12|\n",
      "|1_very_low_40_8_W1|D4388|    6|\n",
      "|1_very_low_40_8_W1|D4401|   10|\n",
      "|3_very_low_40_8_R2|D3389|   17|\n",
      "|3_very_low_40_8_R2|D3440|    8|\n",
      "|3_very_low_40_8_R2|D3546|   12|\n",
      "|3_very_low_40_8_R2|D3571|   18|\n",
      "|3_very_low_40_8_R2|D3623|   30|\n",
      "|3_very_low_40_8_R2|D3635|   14|\n",
      "|3_very_low_40_8_R2|D3731|   23|\n",
      "+------------------+-----+-----+\n",
      "only showing top 20 rows\n",
      "\n"
     ]
    }
   ],
   "source": [
    "dataframe = input_dataframes[REG_LOG_PREFIX].groupby(SCENARIO_NAME, ACID).count()\n",
    "dataframe.show()"
   ]
  },
  {
   "cell_type": "code",
   "execution_count": null,
   "metadata": {},
   "outputs": [],
   "source": []
  },
  {
   "cell_type": "code",
   "execution_count": 12,
   "metadata": {},
   "outputs": [],
   "source": [
    "dataframe = input_dataframes[REG_LOG_PREFIX]\n",
    "\n",
    "# compute next latitude and longitude foreach row \n",
    "window = Window.partitionBy(SCENARIO_NAME).orderBy(SIMULATION_TIME)    \n",
    "dataframe = dataframe.withColumn(\"NEXT_LATITUDE\",lag(LATITUDE, -1).over(window)).withColumn(\"NEXT_LONGITUDE\",lag(LONGITUDE, -1).over(window))\n"
   ]
  },
  {
   "cell_type": "code",
   "execution_count": 13,
   "metadata": {},
   "outputs": [
    {
     "name": "stdout",
     "output_type": "stream",
     "text": [
      "+------+--------+---------------+----+---+---+---+-------------+--------------+\n",
      "|REG_ID|Scenario|Simulation_time|ACID|ALT|LAT|LON|NEXT_LATITUDE|NEXT_LONGITUDE|\n",
      "+------+--------+---------------+----+---+---+---+-------------+--------------+\n",
      "+------+--------+---------------+----+---+---+---+-------------+--------------+\n",
      "\n"
     ]
    }
   ],
   "source": [
    "#Remove rows with NEXT_LATITUDE and NEXT_LONGITUDE null (they are the rows of separation between scenarios)\n",
    "dataframe = dataframe.na.drop(subset=[\"NEXT_LATITUDE\",\"NEXT_LONGITUDE\"])\n",
    "#Check it\n",
    "dataframe.filter(col(\"NEXT_LATITUDE\").isNull() | col(\"NEXT_LATITUDE\").isNull()).show()"
   ]
  },
  {
   "cell_type": "code",
   "execution_count": 28,
   "metadata": {},
   "outputs": [
    {
     "name": "stdout",
     "output_type": "stream",
     "text": [
      "+------------------+-----+--------------------+\n",
      "|          Scenario| ACID|             FP_ENV2|\n",
      "+------------------+-----+--------------------+\n",
      "|1_very_low_40_8_W1| D297|   8758230.592084356|\n",
      "|1_very_low_40_8_W1| D760|   8027879.154410325|\n",
      "|1_very_low_40_8_W1|D1305|  4644231.4278680375|\n",
      "|1_very_low_40_8_W1|D1454|   284918.9770182947|\n",
      "|1_very_low_40_8_W1|D1467|   323733.6400512988|\n",
      "|1_very_low_40_8_W1|D1607|  6047048.1692083515|\n",
      "|1_very_low_40_8_W1|D1782|  4105609.9031290486|\n",
      "|1_very_low_40_8_W1|D1775|   949347.6831496685|\n",
      "|1_very_low_40_8_W1|D1914|  2135758.1258949274|\n",
      "|1_very_low_40_8_W1|D1923|  3011369.0843983875|\n",
      "|1_very_low_40_8_W1|D2195|  3265810.3652293948|\n",
      "|1_very_low_40_8_W1|D2411|  3866343.2139310758|\n",
      "|1_very_low_40_8_W1|D2503|3.0518177728980314E7|\n",
      "|1_very_low_40_8_W1|D2853|   975331.3151750166|\n",
      "|1_very_low_40_8_W1|D3023|   2678757.668442695|\n",
      "|1_very_low_40_8_W1|D3157|   1177752.059597437|\n",
      "|1_very_low_40_8_W1|D3196|   6314961.186097211|\n",
      "|1_very_low_40_8_W1|D3343|  1680877.8918347342|\n",
      "|1_very_low_40_8_W1|D4130|  3103498.6366615742|\n",
      "|1_very_low_40_8_W1|D4261|  1373737.8698992454|\n",
      "+------------------+-----+--------------------+\n",
      "only showing top 20 rows\n",
      "\n"
     ]
    }
   ],
   "source": [
    "dataframe = dataframe.withColumn(\"DIST_NEXT_POINT\", get_coordinates_distance(LATITUDE, LONGITUDE, \"NEXT_LATITUDE\", \"NEXT_LONGITUDE\"))\n",
    "dataframe = dataframe.withColumn(\"WEIGHT_SEGMENT\",  col(ALTITUDE)*col(\"DIST_NEXT_POINT\"))\n",
    "df = dataframe.groupby(SCENARIO_NAME, ACID).agg(F.sum(col(\"WEIGHT_SEGMENT\")).alias(\"FP_ENV2\"))\n",
    "df.show()"
   ]
  },
  {
   "cell_type": "code",
   "execution_count": 26,
   "metadata": {},
   "outputs": [],
   "source": [
    "\n"
   ]
  },
  {
   "cell_type": "code",
   "execution_count": null,
   "metadata": {},
   "outputs": [],
   "source": []
  },
  {
   "cell_type": "code",
   "execution_count": 29,
   "metadata": {},
   "outputs": [],
   "source": [
    "#Calculate average per scenario\n",
    "df = df.groupBy(SCENARIO_NAME).agg(mean(\"FP_ENV2\").alias(ENV2))\n"
   ]
  },
  {
   "cell_type": "code",
   "execution_count": 30,
   "metadata": {},
   "outputs": [
    {
     "name": "stdout",
     "output_type": "stream",
     "text": [
      "+------------------+-----------------+\n",
      "|          Scenario|             ENV2|\n",
      "+------------------+-----------------+\n",
      "|1_very_low_40_8_W1|5074994.109194892|\n",
      "|1_very_low_40_8_R2|5074994.109194907|\n",
      "|2_very_low_40_8_W1|5074994.109194913|\n",
      "|3_very_low_40_8_W1|5074994.109194895|\n",
      "|3_very_low_40_8_R2|5074994.109194884|\n",
      "|2_very_low_40_8_R2|5074994.109194905|\n",
      "+------------------+-----------------+\n",
      "\n"
     ]
    }
   ],
   "source": [
    "df.show()"
   ]
  },
  {
   "cell_type": "code",
   "execution_count": 60,
   "metadata": {},
   "outputs": [
    {
     "name": "stdout",
     "output_type": "stream",
     "text": [
      "+------------------+-----+------------------+------------------+------------------+------------------+\n",
      "|          Scenario| ACID|      MAX_ALTITUDE|      MIN_ALTITUDE|     DIFF_ALTITUDE|MEAN_DIFF_ALTITUDE|\n",
      "+------------------+-----+------------------+------------------+------------------+------------------+\n",
      "|1_very_low_40_8_R2|D2366|           146.304|1.3893899994720003|  144.914610000528| 78.24832099400818|\n",
      "|1_very_low_40_8_R2|D3665|            73.152|             9.144|            64.008| 78.24832099400818|\n",
      "|1_very_low_40_8_R2|D3746|            82.296|             9.144|            73.152| 78.24832099400818|\n",
      "|1_very_low_40_8_R2|D3840|           146.304|3.0333900002640006|  143.270609999736| 78.24832099400818|\n",
      "|1_very_low_40_8_R2|D4165|           51.8922|             9.144|42.748200000000004| 78.24832099400818|\n",
      "|1_very_low_40_8_R2|D4192|            82.296|             9.144|            73.152| 78.24832099400818|\n",
      "|1_very_low_40_8_R2|D4233|54.864000000000004|             45.72| 9.144000000000005| 78.24832099400818|\n",
      "|1_very_low_40_8_R2|D4531|27.432000000000002|            18.288| 9.144000000000002| 78.24832099400818|\n",
      "|1_very_low_40_8_W1|D3157|   41.444609999616|             9.144|   32.300609999616| 78.24832099400818|\n",
      "|1_very_low_40_8_W1|D4130|           146.304|             9.144|            137.16| 78.24832099400818|\n",
      "|1_very_low_40_8_W1|D4261|    69.98261000148| 5.669389999272001|   64.313220002208| 78.24832099400818|\n",
      "|1_very_low_40_8_W1|D4388|            36.576|            36.576|               0.0| 78.24832099400818|\n",
      "|1_very_low_40_8_W1|D4401|27.432000000000002|    7.368610000368|   20.063389999632| 78.24832099400818|\n",
      "|3_very_low_40_8_R2|D3389|            73.152|28.033389998640004|    45.11861000136| 78.24832099400818|\n",
      "|3_very_low_40_8_R2|D3440|27.432000000000002|               0.0|27.432000000000002| 78.24832099400818|\n",
      "|3_very_low_40_8_R2|D3546|            36.576|             9.144|27.432000000000002| 78.24832099400818|\n",
      "|3_very_low_40_8_R2|D3571|27.432000000000002|             9.144|18.288000000000004| 78.24832099400818|\n",
      "|3_very_low_40_8_R2|D3623|           146.304|            3.1242|          143.1798| 78.24832099400818|\n",
      "|3_very_low_40_8_R2|D3635|            73.152|             9.144|            64.008| 78.24832099400818|\n",
      "|3_very_low_40_8_R2|D3731|   134.84661000144|             9.144|125.70261000144001| 78.24832099400818|\n",
      "+------------------+-----+------------------+------------------+------------------+------------------+\n",
      "only showing top 20 rows\n",
      "\n",
      "+------------------+-----+-------------------+\n",
      "|          Scenario| ACID|               ENV4|\n",
      "+------------------+-----+-------------------+\n",
      "|1_very_low_40_8_R2|D2366| 1.8519836356824162|\n",
      "|1_very_low_40_8_R2|D3665| 0.8180111622446361|\n",
      "|1_very_low_40_8_R2|D3746| 0.9348698997081557|\n",
      "|1_very_low_40_8_R2|D3840| 1.8309736001965697|\n",
      "|1_very_low_40_8_R2|D4165| 0.5463145976419536|\n",
      "|1_very_low_40_8_R2|D4192| 0.9348698997081557|\n",
      "|1_very_low_40_8_R2|D4233|0.11685873746351953|\n",
      "|1_very_low_40_8_R2|D4531|0.11685873746351948|\n",
      "|1_very_low_40_8_W1|D3157|0.41279620558362395|\n",
      "|1_very_low_40_8_W1|D4130|  1.752881061952792|\n",
      "|1_very_low_40_8_W1|D4261| 0.8219118210489493|\n",
      "|1_very_low_40_8_W1|D4388|                0.0|\n",
      "|1_very_low_40_8_W1|D4401|0.25640665185861744|\n",
      "|3_very_low_40_8_R2|D3389| 0.5766080272165192|\n",
      "|3_very_low_40_8_R2|D3440| 0.3505762123905584|\n",
      "|3_very_low_40_8_R2|D3546| 0.3505762123905584|\n",
      "|3_very_low_40_8_R2|D3571|0.23371747492703895|\n",
      "|3_very_low_40_8_R2|D3623| 1.8298130641162755|\n",
      "|3_very_low_40_8_R2|D3635| 0.8180111622446361|\n",
      "|3_very_low_40_8_R2|D3731|  1.606457600682136|\n",
      "+------------------+-----+-------------------+\n",
      "only showing top 20 rows\n",
      "\n"
     ]
    }
   ],
   "source": [
    "#ENV4\n",
    "dataframe4 = input_dataframes[REG_LOG_PREFIX]\n",
    "dataframe4 = dataframe4.groupby(SCENARIO_NAME, ACID).agg(F.max(ALTITUDE).alias(\"MAX_ALTITUDE\"), F.min(ALTITUDE).alias(\"MIN_ALTITUDE\"))\n",
    "dataframe4 = dataframe4.withColumn(\"DIFF_ALTITUDE\", col(\"MAX_ALTITUDE\") - col(\"MIN_ALTITUDE\"))\n",
    "avg_delay = dataframe4.select(mean(\"DIFF_ALTITUDE\").alias(\"MEAN_DIFF_ALTITUDE\"))\n",
    "dataframe4 = dataframe4.join(avg_delay, how='outer')\n",
    "dataframe4.show()\n",
    "\n",
    "dataframe4 = dataframe4.withColumn(ENV4, col(\"DIFF_ALTITUDE\")/col(\"MEAN_DIFF_ALTITUDE\"))\n",
    "dataframe4 = dataframe4.select(SCENARIO_NAME, ACID, ENV4)\n",
    "dataframe4.show()\n",
    "# dataframe5 = dataframe4.groupby(SCENARIO_NAME).agg(F.max('MAX_ALTITUDE').alias(\"MAX_ALTITUDE_SCN\"), F.min('MIN_ALTITUDE').alias(\"MIN_ALTITUDE_SCN\"))\n",
    "# dataframe5.show()\n"
   ]
  },
  {
   "cell_type": "code",
   "execution_count": 143,
   "metadata": {},
   "outputs": [
    {
     "name": "stdout",
     "output_type": "stream",
     "text": [
      "+------+------------------+---------------+-----+------------------+-----------+-----------+\n",
      "|REG_ID|          Scenario|Simulation_time| ACID|               ALT|        LAT|        LON|\n",
      "+------+------------------+---------------+-----+------------------+-----------+-----------+\n",
      "| 76800|1_very_low_40_8_R2|         2880.0|D2320|             45.72|48.15636078|16.32453111|\n",
      "| 76801|1_very_low_40_8_R2|         2880.0|D2340|128.01600000000002|48.17504097|16.36041054|\n",
      "| 76802|1_very_low_40_8_R2|         2880.0|D2337|            73.152|48.23478639|16.42459103|\n",
      "| 76803|1_very_low_40_8_R2|         2880.0|D2342|  136.185390000024|48.19298318|16.39227946|\n",
      "| 76804|1_very_low_40_8_R2|         2880.0|D2343|          31.83255|48.21440571|16.35687219|\n",
      "| 76805|1_very_low_40_8_R2|         2880.0|D2346|            73.152|48.19509474|16.39687844|\n",
      "| 76806|1_very_low_40_8_R2|         2880.0|D2358|            9.8679|48.20259996|16.30276413|\n",
      "| 76807|1_very_low_40_8_R2|         2880.0|D2364|            36.576|48.17207706|16.33102202|\n",
      "| 76808|1_very_low_40_8_R2|         2880.0|D2368|             9.144| 48.2029329|16.40249793|\n",
      "| 76809|1_very_low_40_8_R2|         2880.0|D2366|27.432000000000002|48.18712748|16.39761369|\n",
      "| 76810|1_very_low_40_8_R2|         2880.0|D2374| 64.00800000000001|48.25741419|16.36644796|\n",
      "| 76811|1_very_low_40_8_R2|         2880.0|D2387|54.864000000000004|48.21769203| 16.3388323|\n",
      "| 76812|1_very_low_40_8_R2|         2880.0|D2390|49.444609999583996|48.21000289|16.35541169|\n",
      "| 76813|1_very_low_40_8_R2|         2880.0|D2392| 64.00800000000001|48.24848122|16.30479889|\n",
      "| 76814|1_very_low_40_8_R2|         2880.0|D2396|   134.84661000144|48.20109701|16.36781158|\n",
      "| 76815|1_very_low_40_8_R2|         2880.0|D2399|            36.576|48.16658901|16.30623433|\n",
      "| 76816|1_very_low_40_8_R2|         2880.0|D2400| 88.27061000148001| 48.1921775|16.39427255|\n",
      "| 76817|1_very_low_40_8_R2|         2880.0|D2405|27.432000000000002|48.20279291|16.34245164|\n",
      "| 76818|1_very_low_40_8_R2|         2880.0|D2421|54.864000000000004|48.18905068|16.35061377|\n",
      "| 76819|1_very_low_40_8_R2|         2880.0|D2422|          82.08645|48.21666121|16.36242682|\n",
      "+------+------------------+---------------+-----+------------------+-----------+-----------+\n",
      "only showing top 20 rows\n",
      "\n",
      "+------+------------------+---------------+-----+------------------+-----------+-----------+-----------+\n",
      "|REG_ID|          Scenario|Simulation_time| ACID|               ALT|        LAT|        LON|reached_roi|\n",
      "+------+------------------+---------------+-----+------------------+-----------+-----------+-----------+\n",
      "| 76800|1_very_low_40_8_R2|         2880.0|D2320|             45.72|48.15636078|16.32453111|       true|\n",
      "| 76801|1_very_low_40_8_R2|         2880.0|D2340|128.01600000000002|48.17504097|16.36041054|      false|\n",
      "| 76802|1_very_low_40_8_R2|         2880.0|D2337|            73.152|48.23478639|16.42459103|      false|\n",
      "| 76803|1_very_low_40_8_R2|         2880.0|D2342|  136.185390000024|48.19298318|16.39227946|      false|\n",
      "| 76804|1_very_low_40_8_R2|         2880.0|D2343|          31.83255|48.21440571|16.35687219|      false|\n",
      "| 76805|1_very_low_40_8_R2|         2880.0|D2346|            73.152|48.19509474|16.39687844|      false|\n",
      "| 76806|1_very_low_40_8_R2|         2880.0|D2358|            9.8679|48.20259996|16.30276413|      false|\n",
      "| 76807|1_very_low_40_8_R2|         2880.0|D2364|            36.576|48.17207706|16.33102202|      false|\n",
      "| 76808|1_very_low_40_8_R2|         2880.0|D2368|             9.144| 48.2029329|16.40249793|      false|\n",
      "| 76809|1_very_low_40_8_R2|         2880.0|D2366|27.432000000000002|48.18712748|16.39761369|      false|\n",
      "| 76810|1_very_low_40_8_R2|         2880.0|D2374| 64.00800000000001|48.25741419|16.36644796|      false|\n",
      "| 76811|1_very_low_40_8_R2|         2880.0|D2387|54.864000000000004|48.21769203| 16.3388323|      false|\n",
      "| 76812|1_very_low_40_8_R2|         2880.0|D2390|49.444609999583996|48.21000289|16.35541169|      false|\n",
      "| 76813|1_very_low_40_8_R2|         2880.0|D2392| 64.00800000000001|48.24848122|16.30479889|      false|\n",
      "| 76814|1_very_low_40_8_R2|         2880.0|D2396|   134.84661000144|48.20109701|16.36781158|      false|\n",
      "| 76815|1_very_low_40_8_R2|         2880.0|D2399|            36.576|48.16658901|16.30623433|      false|\n",
      "| 76816|1_very_low_40_8_R2|         2880.0|D2400| 88.27061000148001| 48.1921775|16.39427255|      false|\n",
      "| 76817|1_very_low_40_8_R2|         2880.0|D2405|27.432000000000002|48.20279291|16.34245164|      false|\n",
      "| 76818|1_very_low_40_8_R2|         2880.0|D2421|54.864000000000004|48.18905068|16.35061377|      false|\n",
      "| 76819|1_very_low_40_8_R2|         2880.0|D2422|          82.08645|48.21666121|16.36242682|      false|\n",
      "+------+------------------+---------------+-----+------------------+-----------+-----------+-----------+\n",
      "only showing top 20 rows\n",
      "\n",
      "+------------------+----+\n",
      "|          Scenario|ENV3|\n",
      "+------------------+----+\n",
      "|1_very_low_40_8_W1|  28|\n",
      "|1_very_low_40_8_R2|  28|\n",
      "|2_very_low_40_8_W1|  28|\n",
      "|3_very_low_40_8_W1|  28|\n",
      "|3_very_low_40_8_R2|  28|\n",
      "|2_very_low_40_8_R2|  28|\n",
      "+------------------+----+\n",
      "\n"
     ]
    }
   ],
   "source": [
    "#ENV3\n",
    "lat_roi = \"(48.15636078, 48.16)\"\n",
    "lon_roi = \"(16.32453111, 16.33)\"\n",
    "alt_roi = \"(0, 50)\"\n",
    "time_roi = 120\n",
    "\n",
    "lat_roi = eval(lat_roi)\n",
    "lon_roi = eval(lon_roi)\n",
    "alt_roi = eval(alt_roi)\n",
    "\n",
    "dataframe3 = input_dataframes[REG_LOG_PREFIX]\n",
    "dataframe3.show()\n",
    "\n",
    "\n",
    "dataframe3 = dataframe3.withColumn(\"reached_roi\", when((alt_roi[0] <= col(ALTITUDE)) & (col(ALTITUDE) < alt_roi[1]) &\n",
    "                                                       (lat_roi[0] <= col(LATITUDE)) & (col(LATITUDE) < lat_roi[1]) &\n",
    "                                                       (lon_roi[0] <= col(LONGITUDE)) & (col(LONGITUDE) < lon_roi[1]),\n",
    "                                                       True).otherwise(False))\n",
    "\n",
    "dataframe3.show()\n",
    "dataframe3 = dataframe3.select(SCENARIO_NAME, col(\"reached_roi\")).where(col(\"reached_roi\") == True).groupby(SCENARIO_NAME).count().withColumnRenamed(\"count\", \"ENV3\")\n",
    "dataframe3.show()"
   ]
  },
  {
   "cell_type": "code",
   "execution_count": null,
   "metadata": {},
   "outputs": [],
   "source": [
    "dataframe1 = input_dataframes[REG_LOG_PREFIX]\n"
   ]
  },
  {
   "cell_type": "code",
   "execution_count": null,
   "metadata": {},
   "outputs": [],
   "source": []
  }
 ],
 "metadata": {
  "kernelspec": {
   "display_name": "Python 3 (ipykernel)",
   "language": "python",
   "name": "python3"
  },
  "language_info": {
   "codemirror_mode": {
    "name": "ipython",
    "version": 3
   },
   "file_extension": ".py",
   "mimetype": "text/x-python",
   "name": "python",
   "nbconvert_exporter": "python",
   "pygments_lexer": "ipython3",
   "version": "3.8.12"
  }
 },
 "nbformat": 4,
 "nbformat_minor": 1
}
