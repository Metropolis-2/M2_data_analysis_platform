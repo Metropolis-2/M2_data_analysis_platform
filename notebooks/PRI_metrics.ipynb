{
 "cells": [
  {
   "cell_type": "code",
   "execution_count": 58,
   "metadata": {},
   "outputs": [],
   "source": [
    "from pathlib import Path\n",
    "from typing import List, Dict\n",
    "\n",
    "from loguru import logger\n",
    "from pyspark.sql import SparkSession, DataFrame\n",
    "import pyspark.sql.functions as F\n",
    "from pyspark.sql.functions import udf, col, when\n",
    "import sys\n",
    "import geopy.distance"
   ]
  },
  {
   "cell_type": "code",
   "execution_count": 2,
   "metadata": {
    "pycharm": {
     "name": "#%%\n"
    }
   },
   "outputs": [],
   "source": [
    "CONF_LOG_PREFIX = 'CONFLOG'\n",
    "FLST_LOG_PREFIX = 'FLSTLOG'\n",
    "GEO_LOG_PREFIX = 'GEOLOG'\n",
    "LOS_LOG_PREFIX = 'LOSLOG'\n",
    "REG_LOG_PREFIX = 'REGLOG'\n",
    "LOADING_PATH = 'C:/Users/jpedrero/SpyderProjects/M2_data_analysis_platform/output'\n",
    "DATAFRAMES_NAMES = [CONF_LOG_PREFIX, FLST_LOG_PREFIX, GEO_LOG_PREFIX, LOS_LOG_PREFIX, REG_LOG_PREFIX]"
   ]
  },
  {
   "cell_type": "code",
   "execution_count": 39,
   "metadata": {},
   "outputs": [],
   "source": [
    "sys.path.append(str(Path(Path().absolute().parent, 'platform_code')))\n",
    "from schemas.tables_attributes import *"
   ]
  },
  {
   "cell_type": "code",
   "execution_count": 3,
   "metadata": {
    "pycharm": {
     "name": "#%%\n"
    }
   },
   "outputs": [],
   "source": [
    "def load_dataframes(files_names: List[str], loading_path: str, spark: SparkSession) -> Dict[str, DataFrame]:\n",
    "    \"\"\" Loads the dataframes which macht the file names passed by arguments.\n",
    "    The method read from the config the path were to read the files, which\n",
    "    matches the folder where the files are saved in `save_dataframes_dict()`.\n",
    "\n",
    "    :param files_names: list of the names of the files.\n",
    "    :param loading_path: path were the files are saved.\n",
    "    :param spark: spark session.\n",
    "    :return: dictionary with the dataframes loaded from the files, with the\n",
    "     file name as key.\n",
    "    \"\"\"\n",
    "    dataframes = dict()\n",
    "\n",
    "    for file_name in files_names:\n",
    "        file_path = Path(loading_path, f'{file_name.lower()}.parquet')\n",
    "        logger.info('Loading dataframe from `{}`.', file_path)\n",
    "        df = spark.read.parquet(str(file_path))\n",
    "        dataframes[file_name] = df\n",
    "\n",
    "    return dataframes"
   ]
  },
  {
   "cell_type": "code",
   "execution_count": 4,
   "metadata": {
    "pycharm": {
     "name": "#%%\n"
    }
   },
   "outputs": [],
   "source": [
    "spark = SparkSession.builder.appName('Notebook').getOrCreate()"
   ]
  },
  {
   "cell_type": "code",
   "execution_count": 5,
   "metadata": {
    "pycharm": {
     "name": "#%%\n"
    }
   },
   "outputs": [
    {
     "name": "stderr",
     "output_type": "stream",
     "text": [
      "2022-03-23 16:23:10.877 | INFO     | __main__:load_dataframes:16 - Loading dataframe from `C:\\Users\\jpedrero\\SpyderProjects\\M2_data_analysis_platform\\output\\conflog.parquet`.\n",
      "2022-03-23 16:23:42.871 | INFO     | __main__:load_dataframes:16 - Loading dataframe from `C:\\Users\\jpedrero\\SpyderProjects\\M2_data_analysis_platform\\output\\flstlog.parquet`.\n",
      "2022-03-23 16:23:43.332 | INFO     | __main__:load_dataframes:16 - Loading dataframe from `C:\\Users\\jpedrero\\SpyderProjects\\M2_data_analysis_platform\\output\\geolog.parquet`.\n",
      "2022-03-23 16:23:43.581 | INFO     | __main__:load_dataframes:16 - Loading dataframe from `C:\\Users\\jpedrero\\SpyderProjects\\M2_data_analysis_platform\\output\\loslog.parquet`.\n",
      "2022-03-23 16:23:43.911 | INFO     | __main__:load_dataframes:16 - Loading dataframe from `C:\\Users\\jpedrero\\SpyderProjects\\M2_data_analysis_platform\\output\\reglog.parquet`.\n"
     ]
    }
   ],
   "source": [
    "input_dataframes = load_dataframes(DATAFRAMES_NAMES, LOADING_PATH, spark)"
   ]
  },
  {
   "cell_type": "code",
   "execution_count": 10,
   "metadata": {
    "pycharm": {
     "name": "#%%\n"
    }
   },
   "outputs": [
    {
     "data": {
      "text/plain": [
       "{'CONFLOG': DataFrame[CONF_ID: bigint, Scenario: string, CONF_detected_time: double, CPALAT: double, CPALON: double],\n",
       " 'FLSTLOG': DataFrame[Flight_id: bigint, Scenario: string, ACID: string, Origin_LAT: string, Origin_LON: string, Destination_LAT: string, Destination_LON: string, Baseline_departure_time: double, cruising_speed: string, Priority: int, loitering: boolean, Baseline_2D_distance: double, Baseline_vertical_distance: double, Baseline_ascending_distance: double, Baseline_3D_distance: double, Baseline_flight_time: double, Baseline_arrival_time: double, Deletion_Time: double, Spawn_Time: double, Flight_time: string, Distance_2D: string, Distance_3D: double, Distance_ALT: double, Deletion_LAT: double, Deletion_LON: double, Deletion_ALT: double, Ascend_dist: double, Work_Done: double],\n",
       " 'GEOLOG': DataFrame[GEO_id: bigint, Scenario: string, Deletion_Time: double, Geofence_name: string, Max_intrusion: double, Violation_severity: boolean, Open_airspace: boolean, Loitering_nfz: boolean],\n",
       " 'LOSLOG': DataFrame[LOS_ID: bigint, Scenario: string, LOS_exit_time: double, LOS_start_time: double, LOS_duration_time: double, ACID_1: string, ACID_2: string, LAT_1: double, LON_1: double, ALT_1: double, LAT_2: double, LON_2: double, ALT_2: double, DIST: double, crash: boolean],\n",
       " 'REGLOG': DataFrame[REG_ID: int, Scenario: string, Simulation_time: double, ACID: string, ALT: double, LAT: double, LON: double]}"
      ]
     },
     "execution_count": 10,
     "metadata": {},
     "output_type": "execute_result"
    }
   ],
   "source": [
    "input_dataframes"
   ]
  },
  {
   "cell_type": "code",
   "execution_count": 85,
   "metadata": {},
   "outputs": [
    {
     "name": "stdout",
     "output_type": "stream",
     "text": [
      "+------------------+--------+---------+\n",
      "|          Scenario|Priority|     sum1|\n",
      "+------------------+--------+---------+\n",
      "|1_very_low_40_8_R2|       4|   4810.0|\n",
      "|1_very_low_40_8_R2|       1|1782582.0|\n",
      "|1_very_low_40_8_W1|       4|   4810.0|\n",
      "|1_very_low_40_8_W1|       2|1861986.0|\n",
      "|1_very_low_40_8_R2|       2|1861986.0|\n",
      "|1_very_low_40_8_W1|       3|1840296.0|\n",
      "|1_very_low_40_8_W1|       1|1782582.0|\n",
      "|1_very_low_40_8_R2|       3|1840296.0|\n",
      "|3_very_low_40_8_R2|       1|1782582.0|\n",
      "|3_very_low_40_8_W1|       2|1861986.0|\n",
      "|3_very_low_40_8_R2|       4|   4810.0|\n",
      "|3_very_low_40_8_W1|       4|   4810.0|\n",
      "|3_very_low_40_8_W1|       3|1840296.0|\n",
      "|3_very_low_40_8_W1|       1|1782582.0|\n",
      "|3_very_low_40_8_R2|       2|1861986.0|\n",
      "|3_very_low_40_8_R2|       3|1840296.0|\n",
      "|2_very_low_40_8_R2|       4|   4810.0|\n",
      "|2_very_low_40_8_W1|       3|1840296.0|\n",
      "|2_very_low_40_8_R2|       3|1840296.0|\n",
      "|2_very_low_40_8_W1|       4|   4810.0|\n",
      "+------------------+--------+---------+\n",
      "only showing top 20 rows\n",
      "\n"
     ]
    }
   ],
   "source": [
    "df1 = input_dataframes[FLST_LOG_PREFIX].withColumn(\"sum1\", col(SPAWN_TIME) - col(BASELINE_DEPARTURE_TIME)).groupby(SCENARIO_NAME, PRIORITY).agg(F.sum(\"sum1\").alias(\"sum1\"))\n",
    "df1.show()"
   ]
  },
  {
   "cell_type": "code",
   "execution_count": 78,
   "metadata": {},
   "outputs": [],
   "source": [
    "@udf\n",
    "def distCoords(origin_LAT, origin_LON, destination_LAT, destination_LON): #coords_1=(x1,y1) and coords_2=(x2,y2)\n",
    "    origin_tuple = (origin_LAT, origin_LON)\n",
    "    destination_tuple = (destination_LAT, destination_LON)\n",
    "    dst = geopy.distance.distance(origin_tuple, destination_tuple).m #TODO: direct distance calculation (in meters) between two points, is this approach correct?\n",
    "    return dst"
   ]
  },
  {
   "cell_type": "code",
   "execution_count": 79,
   "metadata": {},
   "outputs": [],
   "source": [
    "input_dataframes[FLST_LOG_PREFIX] = input_dataframes[FLST_LOG_PREFIX].withColumn(BASELINE_2D_DISTANCE, distCoords(col(ORIGIN_LAT), col(ORIGIN_LON), col(DESTINATION_LAT), col(DESTINATION_LON)))\n"
   ]
  },
  {
   "cell_type": "code",
   "execution_count": 80,
   "metadata": {},
   "outputs": [],
   "source": [
    "input_dataframes[FLST_LOG_PREFIX] = input_dataframes[FLST_LOG_PREFIX].withColumn(BASELINE_FLIGHT_TIME, \n",
    "           when(col(LOITERING), col(BASELINE_2D_DISTANCE)/col(CRUISING_SPEED) + 60/5)\n",
    "            .otherwise(col(BASELINE_2D_DISTANCE)/col(CRUISING_SPEED)))\n"
   ]
  },
  {
   "cell_type": "code",
   "execution_count": 84,
   "metadata": {},
   "outputs": [
    {
     "name": "stdout",
     "output_type": "stream",
     "text": [
      "+------------------+--------+------------------+\n",
      "|          Scenario|Priority|              sum2|\n",
      "+------------------+--------+------------------+\n",
      "|1_very_low_40_8_R2|       4| 5515.258711855475|\n",
      "|1_very_low_40_8_R2|       1|1995769.9029709946|\n",
      "|1_very_low_40_8_W1|       4| 5515.258711855475|\n",
      "|1_very_low_40_8_W1|       2| 2087582.502777938|\n",
      "|1_very_low_40_8_R2|       2| 2087582.502777938|\n",
      "|1_very_low_40_8_W1|       3| 2049311.763952924|\n",
      "|1_very_low_40_8_W1|       1|1995769.9029709946|\n",
      "|1_very_low_40_8_R2|       3| 2049311.763952924|\n",
      "|3_very_low_40_8_R2|       1|1995769.9029709946|\n",
      "|3_very_low_40_8_W1|       2| 2087582.502777938|\n",
      "|3_very_low_40_8_R2|       4| 5515.258711855475|\n",
      "|3_very_low_40_8_W1|       4| 5515.258711855475|\n",
      "|3_very_low_40_8_W1|       3| 2049311.763952924|\n",
      "|3_very_low_40_8_W1|       1|1995769.9029709946|\n",
      "|3_very_low_40_8_R2|       2| 2087582.502777938|\n",
      "|3_very_low_40_8_R2|       3| 2049311.763952924|\n",
      "|2_very_low_40_8_R2|       4| 5515.258711855475|\n",
      "|2_very_low_40_8_W1|       3| 2049311.763952924|\n",
      "|2_very_low_40_8_R2|       3| 2049311.763952924|\n",
      "|2_very_low_40_8_W1|       4| 5515.258711855475|\n",
      "+------------------+--------+------------------+\n",
      "only showing top 20 rows\n",
      "\n"
     ]
    }
   ],
   "source": [
    "df2 = input_dataframes[FLST_LOG_PREFIX].withColumn(\"sum2\", col(FLIGHT_TIME) - col(BASELINE_FLIGHT_TIME)).groupby(SCENARIO_NAME, PRIORITY).agg(F.sum(\"sum2\").alias(\"sum2\"))\n",
    "df2.show()\n"
   ]
  },
  {
   "cell_type": "code",
   "execution_count": 82,
   "metadata": {},
   "outputs": [
    {
     "name": "stdout",
     "output_type": "stream",
     "text": [
      "+------------------+--------+---------+\n",
      "|          Scenario|Priority|sum(sum1)|\n",
      "+------------------+--------+---------+\n",
      "|1_very_low_40_8_R2|       4|   4810.0|\n",
      "|1_very_low_40_8_R2|       1|1782582.0|\n",
      "|1_very_low_40_8_W1|       4|   4810.0|\n",
      "|1_very_low_40_8_W1|       2|1861986.0|\n",
      "|1_very_low_40_8_R2|       2|1861986.0|\n",
      "|1_very_low_40_8_W1|       3|1840296.0|\n",
      "|1_very_low_40_8_W1|       1|1782582.0|\n",
      "|1_very_low_40_8_R2|       3|1840296.0|\n",
      "|3_very_low_40_8_R2|       1|1782582.0|\n",
      "|3_very_low_40_8_W1|       2|1861986.0|\n",
      "|3_very_low_40_8_R2|       4|   4810.0|\n",
      "|3_very_low_40_8_W1|       4|   4810.0|\n",
      "|3_very_low_40_8_W1|       3|1840296.0|\n",
      "|3_very_low_40_8_W1|       1|1782582.0|\n",
      "|3_very_low_40_8_R2|       2|1861986.0|\n",
      "|3_very_low_40_8_R2|       3|1840296.0|\n",
      "|2_very_low_40_8_R2|       4|   4810.0|\n",
      "|2_very_low_40_8_W1|       3|1840296.0|\n",
      "|2_very_low_40_8_R2|       3|1840296.0|\n",
      "|2_very_low_40_8_W1|       4|   4810.0|\n",
      "+------------------+--------+---------+\n",
      "only showing top 20 rows\n",
      "\n"
     ]
    }
   ],
   "source": [
    "df1.show()"
   ]
  },
  {
   "cell_type": "code",
   "execution_count": 86,
   "metadata": {},
   "outputs": [
    {
     "name": "stdout",
     "output_type": "stream",
     "text": [
      "+------------------+--------+---------+------------------+\n",
      "|          Scenario|Priority|     sum1|              sum2|\n",
      "+------------------+--------+---------+------------------+\n",
      "|1_very_low_40_8_R2|       1|1782582.0|1995769.9029709946|\n",
      "|1_very_low_40_8_R2|       2|1861986.0| 2087582.502777938|\n",
      "|1_very_low_40_8_R2|       3|1840296.0| 2049311.763952924|\n",
      "|1_very_low_40_8_R2|       4|   4810.0| 5515.258711855475|\n",
      "|1_very_low_40_8_W1|       1|1782582.0|1995769.9029709946|\n",
      "|1_very_low_40_8_W1|       2|1861986.0| 2087582.502777938|\n",
      "|1_very_low_40_8_W1|       3|1840296.0| 2049311.763952924|\n",
      "|1_very_low_40_8_W1|       4|   4810.0| 5515.258711855475|\n",
      "|2_very_low_40_8_R2|       1|1782582.0|1995769.9029709946|\n",
      "|2_very_low_40_8_R2|       2|1861986.0| 2087582.502777938|\n",
      "|2_very_low_40_8_R2|       3|1840296.0| 2049311.763952924|\n",
      "|2_very_low_40_8_R2|       4|   4810.0| 5515.258711855475|\n",
      "|2_very_low_40_8_W1|       1|1782582.0|1995769.9029709946|\n",
      "|2_very_low_40_8_W1|       2|1861986.0| 2087582.502777938|\n",
      "|2_very_low_40_8_W1|       3|1840296.0| 2049311.763952924|\n",
      "|2_very_low_40_8_W1|       4|   4810.0| 5515.258711855475|\n",
      "|3_very_low_40_8_R2|       1|1782582.0|1995769.9029709946|\n",
      "|3_very_low_40_8_R2|       2|1861986.0| 2087582.502777938|\n",
      "|3_very_low_40_8_R2|       3|1840296.0| 2049311.763952924|\n",
      "|3_very_low_40_8_R2|       4|   4810.0| 5515.258711855475|\n",
      "+------------------+--------+---------+------------------+\n",
      "only showing top 20 rows\n",
      "\n"
     ]
    }
   ],
   "source": [
    "df3 = df1.join(df2, on=[SCENARIO_NAME, PRIORITY], how='outer')\n",
    "df3.show()"
   ]
  },
  {
   "cell_type": "code",
   "execution_count": 96,
   "metadata": {},
   "outputs": [
    {
     "name": "stdout",
     "output_type": "stream",
     "text": [
      "+------------------+--------+------------------+\n",
      "|          Scenario|Priority|              PRI5|\n",
      "+------------------+--------+------------------+\n",
      "|1_very_low_40_8_R2|       1| 3778351.902970995|\n",
      "|1_very_low_40_8_R2|       2| 3949568.502777938|\n",
      "|1_very_low_40_8_R2|       3| 3889607.763952924|\n",
      "|1_very_low_40_8_R2|       4|10325.258711855475|\n",
      "|1_very_low_40_8_W1|       1| 3778351.902970995|\n",
      "|1_very_low_40_8_W1|       2| 3949568.502777938|\n",
      "|1_very_low_40_8_W1|       3| 3889607.763952924|\n",
      "|1_very_low_40_8_W1|       4|10325.258711855475|\n",
      "|2_very_low_40_8_R2|       1| 3778351.902970995|\n",
      "|2_very_low_40_8_R2|       2| 3949568.502777938|\n",
      "|2_very_low_40_8_R2|       3| 3889607.763952924|\n",
      "|2_very_low_40_8_R2|       4|10325.258711855475|\n",
      "|2_very_low_40_8_W1|       1| 3778351.902970995|\n",
      "|2_very_low_40_8_W1|       2| 3949568.502777938|\n",
      "|2_very_low_40_8_W1|       3| 3889607.763952924|\n",
      "|2_very_low_40_8_W1|       4|10325.258711855475|\n",
      "|3_very_low_40_8_R2|       1| 3778351.902970995|\n",
      "|3_very_low_40_8_R2|       2| 3949568.502777938|\n",
      "|3_very_low_40_8_R2|       3| 3889607.763952924|\n",
      "|3_very_low_40_8_R2|       4|10325.258711855475|\n",
      "+------------------+--------+------------------+\n",
      "only showing top 20 rows\n",
      "\n"
     ]
    }
   ],
   "source": [
    "df = df3.withColumn(PRI5, col(\"sum1\") + col(\"sum2\")).select(SCENARIO_NAME, PRIORITY, PRI5)\n",
    "df.show()"
   ]
  },
  {
   "cell_type": "code",
   "execution_count": 65,
   "metadata": {},
   "outputs": [
    {
     "name": "stdout",
     "output_type": "stream",
     "text": [
      "+--------------------+--------------------+\n",
      "|Baseline_flight_time|Baseline_2D_distance|\n",
      "+--------------------+--------------------+\n",
      "|                 0.0|                 0.0|\n",
      "|                 0.0|                 0.0|\n",
      "|                 0.0|                 0.0|\n",
      "|                 0.0|                 0.0|\n",
      "|                 0.0|                 0.0|\n",
      "|                 0.0|                 0.0|\n",
      "|                 0.0|                 0.0|\n",
      "|                 0.0|                 0.0|\n",
      "|                 0.0|                 0.0|\n",
      "|                 0.0|                 0.0|\n",
      "|                 0.0|                 0.0|\n",
      "|                 0.0|                 0.0|\n",
      "|                 0.0|                 0.0|\n",
      "|                 0.0|                 0.0|\n",
      "|                 0.0|                 0.0|\n",
      "|                 0.0|                 0.0|\n",
      "|                 0.0|                 0.0|\n",
      "|                 0.0|                 0.0|\n",
      "|                 0.0|                 0.0|\n",
      "|                 0.0|                 0.0|\n",
      "+--------------------+--------------------+\n",
      "only showing top 20 rows\n",
      "\n"
     ]
    }
   ],
   "source": [
    "input_dataframes[FLST_LOG_PREFIX].select(BASELINE_FLIGHT_TIME, BASELINE_2D_DISTANCE).show()"
   ]
  },
  {
   "cell_type": "code",
   "execution_count": 56,
   "metadata": {},
   "outputs": [
    {
     "name": "stdout",
     "output_type": "stream",
     "text": [
      "+------------------+--------+-------------------+\n",
      "|          Scenario|Priority|          sum(sum2)|\n",
      "+------------------+--------+-------------------+\n",
      "|1_very_low_40_8_R2|       4|-28515.343855446205|\n",
      "|1_very_low_40_8_R2|       1| -5316737.302873654|\n",
      "|1_very_low_40_8_W1|       4|-28515.343855446205|\n",
      "|1_very_low_40_8_W1|       2| -5657315.973030068|\n",
      "|1_very_low_40_8_R2|       2| -5657315.973030068|\n",
      "|1_very_low_40_8_W1|       3| -5488091.352724353|\n",
      "|1_very_low_40_8_W1|       1| -5316737.302873654|\n",
      "|1_very_low_40_8_R2|       3| -5488091.352724353|\n",
      "|3_very_low_40_8_R2|       1| -5316737.302873654|\n",
      "|3_very_low_40_8_W1|       2| -5657315.973030068|\n",
      "|3_very_low_40_8_R2|       4|-28515.343855446205|\n",
      "|3_very_low_40_8_W1|       4|-28515.343855446205|\n",
      "|3_very_low_40_8_W1|       3| -5488091.352724353|\n",
      "|3_very_low_40_8_W1|       1| -5316737.302873654|\n",
      "|3_very_low_40_8_R2|       2| -5657315.973030068|\n",
      "|3_very_low_40_8_R2|       3| -5488091.352724353|\n",
      "|2_very_low_40_8_R2|       4|-28515.343855446205|\n",
      "|2_very_low_40_8_W1|       3| -5488091.352724353|\n",
      "|2_very_low_40_8_R2|       3| -5488091.352724353|\n",
      "|2_very_low_40_8_W1|       4|-28515.343855446205|\n",
      "|2_very_low_40_8_R2|       1| -5316737.302873654|\n",
      "|2_very_low_40_8_W1|       2| -5657315.973030068|\n",
      "|2_very_low_40_8_R2|       2| -5657315.973030068|\n",
      "|2_very_low_40_8_W1|       1| -5316737.302873654|\n",
      "+------------------+--------+-------------------+\n",
      "\n"
     ]
    }
   ],
   "source": [
    "df2 = input_dataframes[FLST_LOG_PREFIX].withColumn(\"sum2\",  col(FLIGHT_TIME) - col(BASELINE_FLIGHT_TIME)).groupby(\"Scenario\", \"Priority\").agg(F.sum(\"sum2\")).show(50)\n"
   ]
  },
  {
   "cell_type": "code",
   "execution_count": 22,
   "metadata": {},
   "outputs": [
    {
     "name": "stdout",
     "output_type": "stream",
     "text": [
      "Column<'Scenario'>\n",
      "Column<'ACID'>\n",
      "Column<'Spawn_Time'>\n",
      "Column<'Baseline_departure_time'>\n"
     ]
    }
   ],
   "source": [
    "for d in df1:\n",
    "    print(d)"
   ]
  }
 ],
 "metadata": {
  "kernelspec": {
   "display_name": "Python 3 (ipykernel)",
   "language": "python",
   "name": "python3"
  },
  "language_info": {
   "codemirror_mode": {
    "name": "ipython",
    "version": 3
   },
   "file_extension": ".py",
   "mimetype": "text/x-python",
   "name": "python",
   "nbconvert_exporter": "python",
   "pygments_lexer": "ipython3",
   "version": "3.8.12"
  }
 },
 "nbformat": 4,
 "nbformat_minor": 1
}
