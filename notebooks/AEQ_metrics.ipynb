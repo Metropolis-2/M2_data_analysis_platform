{
 "cells": [
  {
   "cell_type": "code",
   "execution_count": 1,
   "metadata": {},
   "outputs": [],
   "source": [
    "from pathlib import Path\n",
    "from typing import List, Dict\n",
    "\n",
    "from loguru import logger\n",
    "from pyspark.sql import SparkSession, DataFrame\n",
    "import pyspark.sql.functions as F\n",
    "from pyspark.sql.functions import udf, col, when\n",
    "import sys"
   ]
  },
  {
   "cell_type": "code",
   "execution_count": 2,
   "metadata": {
    "pycharm": {
     "name": "#%%\n"
    }
   },
   "outputs": [],
   "source": [
    "CONF_LOG_PREFIX = 'CONFLOG'\n",
    "FLST_LOG_PREFIX = 'FLSTLOG'\n",
    "GEO_LOG_PREFIX = 'GEOLOG'\n",
    "LOS_LOG_PREFIX = 'LOSLOG'\n",
    "REG_LOG_PREFIX = 'REGLOG'\n",
    "LOADING_PATH = 'C:/Users/jpedrero/SpyderProjects/M2_data_analysis_platform/output'\n",
    "DATAFRAMES_NAMES = [CONF_LOG_PREFIX, FLST_LOG_PREFIX, GEO_LOG_PREFIX, LOS_LOG_PREFIX, REG_LOG_PREFIX]"
   ]
  },
  {
   "cell_type": "code",
   "execution_count": 3,
   "metadata": {},
   "outputs": [],
   "source": [
    "sys.path.append(str(Path(Path().absolute().parent, 'platform_code')))\n",
    "from schemas.tables_attributes import *"
   ]
  },
  {
   "cell_type": "code",
   "execution_count": 4,
   "metadata": {
    "pycharm": {
     "name": "#%%\n"
    }
   },
   "outputs": [],
   "source": [
    "def load_dataframes(files_names: List[str], loading_path: str, spark: SparkSession) -> Dict[str, DataFrame]:\n",
    "    \"\"\" Loads the dataframes which macht the file names passed by arguments.\n",
    "    The method read from the config the path were to read the files, which\n",
    "    matches the folder where the files are saved in `save_dataframes_dict()`.\n",
    "\n",
    "    :param files_names: list of the names of the files.\n",
    "    :param loading_path: path were the files are saved.\n",
    "    :param spark: spark session.\n",
    "    :return: dictionary with the dataframes loaded from the files, with the\n",
    "     file name as key.\n",
    "    \"\"\"\n",
    "    dataframes = dict()\n",
    "\n",
    "    for file_name in files_names:\n",
    "        file_path = Path(loading_path, f'{file_name.lower()}.parquet')\n",
    "        logger.info('Loading dataframe from `{}`.', file_path)\n",
    "        df = spark.read.parquet(str(file_path))\n",
    "        dataframes[file_name] = df\n",
    "\n",
    "    return dataframes"
   ]
  },
  {
   "cell_type": "code",
   "execution_count": 5,
   "metadata": {
    "pycharm": {
     "name": "#%%\n"
    }
   },
   "outputs": [],
   "source": [
    "spark = SparkSession.builder.appName('Notebook').getOrCreate()"
   ]
  },
  {
   "cell_type": "code",
   "execution_count": 6,
   "metadata": {
    "pycharm": {
     "name": "#%%\n"
    }
   },
   "outputs": [
    {
     "name": "stderr",
     "output_type": "stream",
     "text": [
      "2022-03-24 16:48:18.151 | INFO     | __main__:load_dataframes:16 - Loading dataframe from `C:\\Users\\jpedrero\\SpyderProjects\\M2_data_analysis_platform\\output\\conflog.parquet`.\n",
      "2022-03-24 16:48:23.910 | INFO     | __main__:load_dataframes:16 - Loading dataframe from `C:\\Users\\jpedrero\\SpyderProjects\\M2_data_analysis_platform\\output\\flstlog.parquet`.\n",
      "2022-03-24 16:48:24.140 | INFO     | __main__:load_dataframes:16 - Loading dataframe from `C:\\Users\\jpedrero\\SpyderProjects\\M2_data_analysis_platform\\output\\geolog.parquet`.\n",
      "2022-03-24 16:48:24.308 | INFO     | __main__:load_dataframes:16 - Loading dataframe from `C:\\Users\\jpedrero\\SpyderProjects\\M2_data_analysis_platform\\output\\loslog.parquet`.\n",
      "2022-03-24 16:48:24.482 | INFO     | __main__:load_dataframes:16 - Loading dataframe from `C:\\Users\\jpedrero\\SpyderProjects\\M2_data_analysis_platform\\output\\reglog.parquet`.\n"
     ]
    }
   ],
   "source": [
    "input_dataframes = load_dataframes(DATAFRAMES_NAMES, LOADING_PATH, spark)"
   ]
  },
  {
   "cell_type": "code",
   "execution_count": 7,
   "metadata": {
    "pycharm": {
     "name": "#%%\n"
    }
   },
   "outputs": [
    {
     "data": {
      "text/plain": [
       "{'CONFLOG': DataFrame[CONF_ID: bigint, Scenario: string, CONF_detected_time: double, CPALAT: double, CPALON: double],\n",
       " 'FLSTLOG': DataFrame[Flight_id: bigint, Scenario: string, ACID: string, Vehicle: string, Origin_LAT: string, Origin_LON: string, Destination_LAT: string, Destination_LON: string, Baseline_departure_time: int, cruising_speed: double, Vertical_Speed: double, Priority: int, loitering: boolean, Baseline_2D_distance: string, Baseline_vertical_distance: double, Baseline_ascending_distance: double, Baseline_3D_distance: double, Baseline_flight_time: double, Baseline_arrival_time: double, Deletion_Time: double, Spawn_Time: double, Flight_time: string, Distance_2D: string, Distance_3D: double, Distance_ALT: double, Deletion_LAT: double, Deletion_LON: double, Deletion_ALT: double, Distance_ascend: double, Work_Done: double],\n",
       " 'GEOLOG': DataFrame[GEO_id: bigint, Scenario: string, Deletion_Time: double, Geofence_name: string, Max_intrusion: double, Violation_severity: boolean, Open_airspace: boolean, Loitering_nfz: boolean],\n",
       " 'LOSLOG': DataFrame[LOS_ID: bigint, Scenario: string, LOS_exit_time: double, LOS_start_time: double, LOS_duration_time: double, ACID_1: string, ACID_2: string, LAT_1: double, LON_1: double, ALT_1: double, LAT_2: double, LON_2: double, ALT_2: double, DIST: double, crash: boolean],\n",
       " 'REGLOG': DataFrame[REG_ID: int, Scenario: string, Simulation_time: double, ACID: string, ALT: double, LAT: double, LON: double]}"
      ]
     },
     "execution_count": 7,
     "metadata": {},
     "output_type": "execute_result"
    }
   ],
   "source": [
    "input_dataframes"
   ]
  },
  {
   "cell_type": "code",
   "execution_count": 8,
   "metadata": {},
   "outputs": [
    {
     "data": {
      "text/plain": [
       "{'CONFLOG': DataFrame[CONF_ID: bigint, Scenario: string, CONF_detected_time: double, CPALAT: double, CPALON: double],\n",
       " 'FLSTLOG': DataFrame[Flight_id: bigint, Scenario: string, ACID: string, Vehicle: string, Origin_LAT: string, Origin_LON: string, Destination_LAT: string, Destination_LON: string, Baseline_departure_time: int, cruising_speed: double, Vertical_Speed: double, Priority: int, loitering: boolean, Baseline_2D_distance: string, Baseline_vertical_distance: double, Baseline_ascending_distance: double, Baseline_3D_distance: double, Baseline_flight_time: double, Baseline_arrival_time: double, Deletion_Time: double, Spawn_Time: double, Flight_time: string, Distance_2D: string, Distance_3D: double, Distance_ALT: double, Deletion_LAT: double, Deletion_LON: double, Deletion_ALT: double, Distance_ascend: double, Work_Done: double],\n",
       " 'GEOLOG': DataFrame[GEO_id: bigint, Scenario: string, Deletion_Time: double, Geofence_name: string, Max_intrusion: double, Violation_severity: boolean, Open_airspace: boolean, Loitering_nfz: boolean],\n",
       " 'LOSLOG': DataFrame[LOS_ID: bigint, Scenario: string, LOS_exit_time: double, LOS_start_time: double, LOS_duration_time: double, ACID_1: string, ACID_2: string, LAT_1: double, LON_1: double, ALT_1: double, LAT_2: double, LON_2: double, ALT_2: double, DIST: double, crash: boolean],\n",
       " 'REGLOG': DataFrame[REG_ID: int, Scenario: string, Simulation_time: double, ACID: string, ALT: double, LAT: double, LON: double]}"
      ]
     },
     "execution_count": 8,
     "metadata": {},
     "output_type": "execute_result"
    }
   ],
   "source": [
    "input_dataframes"
   ]
  },
  {
   "cell_type": "code",
   "execution_count": 9,
   "metadata": {},
   "outputs": [
    {
     "name": "stdout",
     "output_type": "stream",
     "text": [
      "300\n"
     ]
    }
   ],
   "source": [
    "from config import settings\n",
    "print(settings.thresholds.emergency_mission_delay)"
   ]
  },
  {
   "cell_type": "code",
   "execution_count": 10,
   "metadata": {},
   "outputs": [],
   "source": [
    "dataframe = input_dataframes[FLST_LOG_PREFIX].select(SCENARIO_NAME, PRIORITY, LOITERING, BASELINE_ARRIVAL_TIME, DEL_TIME)"
   ]
  },
  {
   "cell_type": "code",
   "execution_count": 11,
   "metadata": {},
   "outputs": [],
   "source": [
    "dataframe = dataframe.withColumn(\"delay\", col(DEL_TIME)-col(BASELINE_ARRIVAL_TIME))"
   ]
  },
  {
   "cell_type": "code",
   "execution_count": 12,
   "metadata": {},
   "outputs": [],
   "source": [
    "dataframe = dataframe.withColumn(\"cancelation_limit\", \n",
    "                                             when(col(PRIORITY) == 4, settings.thresholds.emergency_mission_delay)\n",
    "                                            .otherwise(when(col(LOITERING), settings.thresholds.loitering_mission_delay)\n",
    "                                            .otherwise(settings.thresholds.delivery_mission_delay)))"
   ]
  },
  {
   "cell_type": "code",
   "execution_count": 13,
   "metadata": {},
   "outputs": [],
   "source": [
    "dataframe = dataframe.select(SCENARIO_NAME, PRIORITY, LOITERING, \"delay\",\"cancelation_limit\").withColumn(\"cancelled_demand\", col(\"delay\") >= col(\"cancelation_limit\"))"
   ]
  },
  {
   "cell_type": "code",
   "execution_count": 14,
   "metadata": {},
   "outputs": [
    {
     "name": "stdout",
     "output_type": "stream",
     "text": [
      "+------------------+----+\n",
      "|          Scenario|AEQ1|\n",
      "+------------------+----+\n",
      "|1_very_low_40_8_W1|  90|\n",
      "|1_very_low_40_8_R2|  90|\n",
      "|3_very_low_40_8_W1|  90|\n",
      "|3_very_low_40_8_R2|  90|\n",
      "|2_very_low_40_8_W1|  90|\n",
      "|2_very_low_40_8_R2|  90|\n",
      "+------------------+----+\n",
      "\n"
     ]
    }
   ],
   "source": [
    "dataframe = dataframe.select(SCENARIO_NAME, \"cancelled_demand\").where(col(\"cancelled_demand\")).groupby(SCENARIO_NAME).count().withColumnRenamed(\"count\", \"AEQ1\")\n",
    "dataframe.show()"
   ]
  },
  {
   "cell_type": "code",
   "execution_count": 15,
   "metadata": {},
   "outputs": [
    {
     "name": "stdout",
     "output_type": "stream",
     "text": [
      "+----+\n",
      "|AEQ1|\n",
      "+----+\n",
      "|  90|\n",
      "|  90|\n",
      "|  90|\n",
      "|  90|\n",
      "|  90|\n",
      "|  90|\n",
      "+----+\n",
      "\n"
     ]
    }
   ],
   "source": [
    "dataframe.select(AEQ1).show()"
   ]
  },
  {
   "cell_type": "code",
   "execution_count": null,
   "metadata": {},
   "outputs": [],
   "source": []
  },
  {
   "cell_type": "code",
   "execution_count": 16,
   "metadata": {},
   "outputs": [
    {
     "name": "stdout",
     "output_type": "stream",
     "text": [
      "+------------------+-----------------+\n",
      "|          Scenario|             AEQ2|\n",
      "+------------------+-----------------+\n",
      "|1_very_low_40_8_R2|2.393617021276596|\n",
      "|1_very_low_40_8_W1|2.393617021276596|\n",
      "|2_very_low_40_8_R2|2.393617021276596|\n",
      "|2_very_low_40_8_W1|2.393617021276596|\n",
      "|3_very_low_40_8_R2|2.393617021276596|\n",
      "|3_very_low_40_8_W1|2.393617021276596|\n",
      "+------------------+-----------------+\n",
      "\n"
     ]
    }
   ],
   "source": [
    "dataframe2 = input_dataframes[FLST_LOG_PREFIX].select(SCENARIO_NAME, ACID)\n",
    "dataframe2 = dataframe2.groupby(SCENARIO_NAME).count().withColumnRenamed(\"count\", \"Num_Acids\")\n",
    "dataframe2 = dataframe2.join(dataframe, on=[SCENARIO_NAME], how='outer')\n",
    "dataframe2 = dataframe2.withColumn(AEQ2, (col(AEQ1) / col(\"Num_Acids\")) * 100).select(SCENARIO_NAME, AEQ2)\n",
    "dataframe2.show()"
   ]
  },
  {
   "cell_type": "code",
   "execution_count": 17,
   "metadata": {},
   "outputs": [
    {
     "ename": "NameError",
     "evalue": "name 'df1' is not defined",
     "output_type": "error",
     "traceback": [
      "\u001b[1;31m---------------------------------------------------------------------------\u001b[0m",
      "\u001b[1;31mNameError\u001b[0m                                 Traceback (most recent call last)",
      "\u001b[1;32m~\\AppData\\Local\\Temp/ipykernel_6236/2243110210.py\u001b[0m in \u001b[0;36m<module>\u001b[1;34m\u001b[0m\n\u001b[1;32m----> 1\u001b[1;33m \u001b[0mdf3\u001b[0m \u001b[1;33m=\u001b[0m \u001b[0mdf1\u001b[0m\u001b[1;33m.\u001b[0m\u001b[0mjoin\u001b[0m\u001b[1;33m(\u001b[0m\u001b[0mdf2\u001b[0m\u001b[1;33m,\u001b[0m \u001b[0mon\u001b[0m\u001b[1;33m=\u001b[0m\u001b[1;33m[\u001b[0m\u001b[0mSCENARIO_NAME\u001b[0m\u001b[1;33m]\u001b[0m\u001b[1;33m,\u001b[0m \u001b[0mhow\u001b[0m\u001b[1;33m=\u001b[0m\u001b[1;34m'outer'\u001b[0m\u001b[1;33m)\u001b[0m\u001b[1;33m\u001b[0m\u001b[1;33m\u001b[0m\u001b[0m\n\u001b[0m\u001b[0;32m      2\u001b[0m \u001b[0mdf3\u001b[0m \u001b[1;33m=\u001b[0m \u001b[0mdf3\u001b[0m\u001b[1;33m.\u001b[0m\u001b[0mwithColumn\u001b[0m\u001b[1;33m(\u001b[0m\u001b[1;34m\"AEQ2\"\u001b[0m\u001b[1;33m,\u001b[0m \u001b[1;33m(\u001b[0m\u001b[0mcol\u001b[0m\u001b[1;33m(\u001b[0m\u001b[1;34m\"AEQ1\"\u001b[0m\u001b[1;33m)\u001b[0m\u001b[1;33m/\u001b[0m\u001b[0mcol\u001b[0m\u001b[1;33m(\u001b[0m\u001b[1;34m\"Num_Acids\"\u001b[0m\u001b[1;33m)\u001b[0m\u001b[1;33m)\u001b[0m\u001b[1;33m*\u001b[0m\u001b[1;36m100\u001b[0m\u001b[1;33m)\u001b[0m\u001b[1;33m.\u001b[0m\u001b[0mselect\u001b[0m\u001b[1;33m(\u001b[0m\u001b[0mSCENARIO_NAME\u001b[0m\u001b[1;33m,\u001b[0m \u001b[0mAEQ2\u001b[0m\u001b[1;33m)\u001b[0m\u001b[1;33m\u001b[0m\u001b[1;33m\u001b[0m\u001b[0m\n\u001b[0;32m      3\u001b[0m \u001b[0mdf3\u001b[0m\u001b[1;33m.\u001b[0m\u001b[0mshow\u001b[0m\u001b[1;33m(\u001b[0m\u001b[1;33m)\u001b[0m\u001b[1;33m\u001b[0m\u001b[1;33m\u001b[0m\u001b[0m\n",
      "\u001b[1;31mNameError\u001b[0m: name 'df1' is not defined"
     ]
    }
   ],
   "source": [
    "df3 = df1.join(df2, on=[SCENARIO_NAME], how='outer')\n",
    "df3 = df3.withColumn(\"AEQ2\", (col(\"AEQ1\")/col(\"Num_Acids\"))*100).select(SCENARIO_NAME, AEQ2)\n",
    "df3.show()"
   ]
  },
  {
   "cell_type": "code",
   "execution_count": null,
   "metadata": {},
   "outputs": [],
   "source": [
    "input_dataframes[FLST_LOG_PREFIX].select(SCENARIO_NAME, ACID).groupby(SCENARIO_NAME).count().show()"
   ]
  },
  {
   "cell_type": "code",
   "execution_count": null,
   "metadata": {},
   "outputs": [],
   "source": [
    "input_dataframes[FLST_LOG_PREFIX].select(SCENARIO_NAME, PRIORITY, LOITERING, \"delay\", PRIORITY, LOITERING).((col(PRIORITY)==4) | (col(LOITERING))).show(30)"
   ]
  },
  {
   "cell_type": "code",
   "execution_count": 19,
   "metadata": {},
   "outputs": [
    {
     "name": "stdout",
     "output_type": "stream",
     "text": [
      "+------------------+----+------------+-------+\n",
      "|          Scenario|ACID| Flight_time|Vehicle|\n",
      "+------------------+----+------------+-------+\n",
      "|1_very_low_40_8_R2| D10|128.00000000|   MP30|\n",
      "|1_very_low_40_8_R2| D54|199.00000000|   MP30|\n",
      "|1_very_low_40_8_R2| D71|206.50000000|   MP30|\n",
      "|1_very_low_40_8_R2| D86|221.50000000|   MP30|\n",
      "|1_very_low_40_8_R2| D35|245.50000000|   MP20|\n",
      "|1_very_low_40_8_R2|D151|250.50000000|   MP20|\n",
      "|1_very_low_40_8_R2|D103|252.50000000|   MP30|\n",
      "|1_very_low_40_8_R2|  D5|263.00000000|   MP20|\n",
      "|1_very_low_40_8_R2| D85|273.00000000|   MP30|\n",
      "|1_very_low_40_8_R2|D158|284.00000000|   MP30|\n",
      "|1_very_low_40_8_R2|  D9|301.00000000|   MP20|\n",
      "|1_very_low_40_8_R2| D95|301.50000000|   MP30|\n",
      "|1_very_low_40_8_R2| D13|304.50000000|   MP30|\n",
      "|1_very_low_40_8_R2|D165|314.50000000|   MP30|\n",
      "|1_very_low_40_8_R2| D51|318.00000000|   MP20|\n",
      "|1_very_low_40_8_R2|D111|325.00000000|   MP20|\n",
      "|1_very_low_40_8_R2| D80|326.00000000|   MP30|\n",
      "|1_very_low_40_8_R2|D243|326.50000000|   MP20|\n",
      "|1_very_low_40_8_R2|D182|339.00000000|   MP30|\n",
      "|1_very_low_40_8_R2|D281|340.00000000|   MP30|\n",
      "+------------------+----+------------+-------+\n",
      "only showing top 20 rows\n",
      "\n"
     ]
    }
   ],
   "source": [
    "dataframe3 = input_dataframes[FLST_LOG_PREFIX].select(SCENARIO_NAME, ACID, FLIGHT_TIME, VEHICLE)\n",
    "dataframe3.show()"
   ]
  },
  {
   "cell_type": "code",
   "execution_count": 23,
   "metadata": {},
   "outputs": [
    {
     "name": "stdout",
     "output_type": "stream",
     "text": [
      "+------------------+----+------------+-------+--------+\n",
      "|          Scenario|ACID| Flight_time|Vehicle|autonomy|\n",
      "+------------------+----+------------+-------+--------+\n",
      "|1_very_low_40_8_R2| D10|128.00000000|   MP30|    1800|\n",
      "|1_very_low_40_8_R2| D54|199.00000000|   MP30|    1800|\n",
      "|1_very_low_40_8_R2| D71|206.50000000|   MP30|    1800|\n",
      "|1_very_low_40_8_R2| D86|221.50000000|   MP30|    1800|\n",
      "|1_very_low_40_8_R2| D35|245.50000000|   MP20|    1800|\n",
      "|1_very_low_40_8_R2|D151|250.50000000|   MP20|    1800|\n",
      "|1_very_low_40_8_R2|D103|252.50000000|   MP30|    1800|\n",
      "|1_very_low_40_8_R2|  D5|263.00000000|   MP20|    1800|\n",
      "|1_very_low_40_8_R2| D85|273.00000000|   MP30|    1800|\n",
      "|1_very_low_40_8_R2|D158|284.00000000|   MP30|    1800|\n",
      "|1_very_low_40_8_R2|  D9|301.00000000|   MP20|    1800|\n",
      "|1_very_low_40_8_R2| D95|301.50000000|   MP30|    1800|\n",
      "|1_very_low_40_8_R2| D13|304.50000000|   MP30|    1800|\n",
      "|1_very_low_40_8_R2|D165|314.50000000|   MP30|    1800|\n",
      "|1_very_low_40_8_R2| D51|318.00000000|   MP20|    1800|\n",
      "|1_very_low_40_8_R2|D111|325.00000000|   MP20|    1800|\n",
      "|1_very_low_40_8_R2| D80|326.00000000|   MP30|    1800|\n",
      "|1_very_low_40_8_R2|D243|326.50000000|   MP20|    1800|\n",
      "|1_very_low_40_8_R2|D182|339.00000000|   MP30|    1800|\n",
      "|1_very_low_40_8_R2|D281|340.00000000|   MP30|    1800|\n",
      "+------------------+----+------------+-------+--------+\n",
      "only showing top 20 rows\n",
      "\n"
     ]
    }
   ],
   "source": [
    "dataframe3 = input_dataframes[FLST_LOG_PREFIX].withColumn(\"autonomy\", when(col(VEHICLE) == \"MP20\", settings.MP20.autonomy)\n",
    "                                                         .otherwise(settings.MP30.autonomy))\n",
    "\n",
    "dataframe3 = dataframe3.select(SCENARIO_NAME, ACID, FLIGHT_TIME, VEHICLE, \"autonomy\")\n",
    "dataframe3.show()"
   ]
  },
  {
   "cell_type": "code",
   "execution_count": 31,
   "metadata": {},
   "outputs": [
    {
     "name": "stdout",
     "output_type": "stream",
     "text": [
      "+------------------+----+\n",
      "|          Scenario|AEQ2|\n",
      "+------------------+----+\n",
      "|1_very_low_40_8_W1|2347|\n",
      "|1_very_low_40_8_R2|2347|\n",
      "|3_very_low_40_8_W1|2347|\n",
      "|3_very_low_40_8_R2|2347|\n",
      "|2_very_low_40_8_W1|2347|\n",
      "|2_very_low_40_8_R2|2347|\n",
      "+------------------+----+\n",
      "\n"
     ]
    }
   ],
   "source": [
    "dataframe3 = dataframe3.withColumn(\"inoperative\", when(col(FLIGHT_TIME)>= col(\"autonomy\"), True).otherwise(False))\n",
    "dataframe3 = dataframe3.select(SCENARIO_NAME, col(\"inoperative\")).where(col(\"inoperative\") == True).groupby(SCENARIO_NAME).count().withColumnRenamed(\"count\", AEQ2)\n",
    "dataframe3.show()"
   ]
  },
  {
   "cell_type": "code",
   "execution_count": 75,
   "metadata": {},
   "outputs": [
    {
     "name": "stdout",
     "output_type": "stream",
     "text": [
      "+------------------+\n",
      "|         avg_delay|\n",
      "+------------------+\n",
      "|174.88071918752135|\n",
      "+------------------+\n",
      "\n",
      "+------------------+---------------------+-------------+-------------------+------------------+------------------+\n",
      "|          Scenario|Baseline_arrival_time|Deletion_Time|              delay|         avg_delay|   delay_increment|\n",
      "+------------------+---------------------+-------------+-------------------+------------------+------------------+\n",
      "|1_very_low_40_8_R2|    93.58550517846484|        128.0|  34.41449482153516|174.88071918752135| 140.4662243659862|\n",
      "|1_very_low_40_8_R2|   234.92153759118554|        199.0| -35.92153759118554|174.88071918752135| 210.8022567787069|\n",
      "|1_very_low_40_8_R2|   194.43859065760762|        206.5|  12.06140934239238|174.88071918752135|162.81930984512897|\n",
      "|1_very_low_40_8_R2|   153.96310445561087|        221.5|  67.53689554438913|174.88071918752135|107.34382364313223|\n",
      "|1_very_low_40_8_R2|   191.42273558168245|        245.5| 54.077264418317554|174.88071918752135| 120.8034547692038|\n",
      "|1_very_low_40_8_R2|   207.18630252338767|        250.5|  43.31369747661233|174.88071918752135|131.56702171090902|\n",
      "|1_very_low_40_8_R2|    184.8503295284063|        252.5|  67.64967047159371|174.88071918752135|107.23104871592764|\n",
      "|1_very_low_40_8_R2|   267.02498015434514|        263.0| -4.024980154345144|174.88071918752135| 178.9056993418665|\n",
      "|1_very_low_40_8_R2|    194.1596341580672|        273.0|   78.8403658419328|174.88071918752135| 96.04035334558856|\n",
      "|1_very_low_40_8_R2|   240.50303275357163|        284.0|  43.49696724642837|174.88071918752135|131.38375194109298|\n",
      "|1_very_low_40_8_R2|     219.278887841879|        301.0|    81.721112158121|174.88071918752135| 93.15960702940035|\n",
      "|1_very_low_40_8_R2|   243.79275574372926|        301.5|  57.70724425627074|174.88071918752135|117.17347493125061|\n",
      "|1_very_low_40_8_R2|    419.4987550112725|        304.5|-114.99875501127252|174.88071918752135| 289.8794741987939|\n",
      "|1_very_low_40_8_R2|   222.28694374236704|        314.5|  92.21305625763296|174.88071918752135|  82.6676629298884|\n",
      "|1_very_low_40_8_R2|   186.79625520135951|        318.0| 131.20374479864049|174.88071918752135|43.676974388880865|\n",
      "|1_very_low_40_8_R2|    279.3119790107202|        325.0|  45.68802098927978|174.88071918752135|129.19269819824157|\n",
      "|1_very_low_40_8_R2|   218.33340086204612|        326.0| 107.66659913795388|174.88071918752135| 67.21412004956747|\n",
      "|1_very_low_40_8_R2|   275.42384956159617|        326.5|  51.07615043840383|174.88071918752135|123.80456874911752|\n",
      "|1_very_low_40_8_R2|    264.7516326637668|        339.0|  74.24836733623317|174.88071918752135|100.63235185128818|\n",
      "|1_very_low_40_8_R2|    324.3150947427846|        340.0| 15.684905257215405|174.88071918752135|159.19581393030595|\n",
      "+------------------+---------------------+-------------+-------------------+------------------+------------------+\n",
      "only showing top 20 rows\n",
      "\n",
      "+------------------+-----------------+\n",
      "|          Scenario|             AEQ4|\n",
      "+------------------+-----------------+\n",
      "|1_very_low_40_8_W1|954.8704689213281|\n",
      "|1_very_low_40_8_R2|954.8704689213281|\n",
      "|3_very_low_40_8_W1|954.8704689213281|\n",
      "|3_very_low_40_8_R2|954.8704689213281|\n",
      "|2_very_low_40_8_W1|954.8704689213281|\n",
      "|2_very_low_40_8_R2|954.8704689213281|\n",
      "+------------------+-----------------+\n",
      "\n"
     ]
    }
   ],
   "source": [
    "from pyspark.sql.functions import mean\n",
    "from pyspark.sql.functions import abs\n",
    "\n",
    "dataframe4 = input_dataframes[FLST_LOG_PREFIX].select(SCENARIO_NAME, BASELINE_ARRIVAL_TIME, DEL_TIME)\n",
    "dataframe4 = dataframe4.withColumn(\"delay\", (col(DEL_TIME) - col(BASELINE_ARRIVAL_TIME)))\n",
    "avg_delay= dataframe4.select(mean(\"delay\").alias(\"avg_delay\"))\n",
    "avg_delay.show()\n",
    "dataframe4 = dataframe4.join(avg_delay, how='outer')\n",
    "dataframe4 = dataframe4.withColumn(\"delay_increment\", abs(col(\"delay\")-col(\"avg_delay\")))\n",
    "dataframe4.show()\n",
    "dataframe4 = dataframe4.groupby(SCENARIO_NAME).agg(F.max(\"delay_increment\").alias(AEQ4))\n",
    "dataframe4.show()"
   ]
  },
  {
   "cell_type": "code",
   "execution_count": 98,
   "metadata": {},
   "outputs": [
    {
     "name": "stdout",
     "output_type": "stream",
     "text": [
      "+------------------+\n",
      "|         avg_delay|\n",
      "+------------------+\n",
      "|174.88071918752135|\n",
      "+------------------+\n",
      "\n",
      "+------------------+----+---------------------+-------------+-------------------+------------------+\n",
      "|          Scenario|ACID|Baseline_arrival_time|Deletion_Time|              delay|         avg_delay|\n",
      "+------------------+----+---------------------+-------------+-------------------+------------------+\n",
      "|1_very_low_40_8_R2| D10|    93.58550517846484|        128.0|  34.41449482153516|174.88071918752135|\n",
      "|1_very_low_40_8_R2| D54|   234.92153759118554|        199.0| -35.92153759118554|174.88071918752135|\n",
      "|1_very_low_40_8_R2| D71|   194.43859065760762|        206.5|  12.06140934239238|174.88071918752135|\n",
      "|1_very_low_40_8_R2| D86|   153.96310445561087|        221.5|  67.53689554438913|174.88071918752135|\n",
      "|1_very_low_40_8_R2| D35|   191.42273558168245|        245.5| 54.077264418317554|174.88071918752135|\n",
      "|1_very_low_40_8_R2|D151|   207.18630252338767|        250.5|  43.31369747661233|174.88071918752135|\n",
      "|1_very_low_40_8_R2|D103|    184.8503295284063|        252.5|  67.64967047159371|174.88071918752135|\n",
      "|1_very_low_40_8_R2|  D5|   267.02498015434514|        263.0| -4.024980154345144|174.88071918752135|\n",
      "|1_very_low_40_8_R2| D85|    194.1596341580672|        273.0|   78.8403658419328|174.88071918752135|\n",
      "|1_very_low_40_8_R2|D158|   240.50303275357163|        284.0|  43.49696724642837|174.88071918752135|\n",
      "|1_very_low_40_8_R2|  D9|     219.278887841879|        301.0|    81.721112158121|174.88071918752135|\n",
      "|1_very_low_40_8_R2| D95|   243.79275574372926|        301.5|  57.70724425627074|174.88071918752135|\n",
      "|1_very_low_40_8_R2| D13|    419.4987550112725|        304.5|-114.99875501127252|174.88071918752135|\n",
      "|1_very_low_40_8_R2|D165|   222.28694374236704|        314.5|  92.21305625763296|174.88071918752135|\n",
      "|1_very_low_40_8_R2| D51|   186.79625520135951|        318.0| 131.20374479864049|174.88071918752135|\n",
      "|1_very_low_40_8_R2|D111|    279.3119790107202|        325.0|  45.68802098927978|174.88071918752135|\n",
      "|1_very_low_40_8_R2| D80|   218.33340086204612|        326.0| 107.66659913795388|174.88071918752135|\n",
      "|1_very_low_40_8_R2|D243|   275.42384956159617|        326.5|  51.07615043840383|174.88071918752135|\n",
      "|1_very_low_40_8_R2|D182|    264.7516326637668|        339.0|  74.24836733623317|174.88071918752135|\n",
      "|1_very_low_40_8_R2|D281|    324.3150947427846|        340.0| 15.684905257215405|174.88071918752135|\n",
      "+------------------+----+---------------------+-------------+-------------------+------------------+\n",
      "only showing top 20 rows\n",
      "\n",
      "+------------------+----+\n",
      "|          Scenario|AEQ5|\n",
      "+------------------+----+\n",
      "|1_very_low_40_8_W1|3643|\n",
      "|1_very_low_40_8_R2|3643|\n",
      "|3_very_low_40_8_W1|3643|\n",
      "|3_very_low_40_8_R2|3643|\n",
      "|2_very_low_40_8_W1|3643|\n",
      "|2_very_low_40_8_R2|3643|\n",
      "+------------------+----+\n",
      "\n"
     ]
    }
   ],
   "source": [
    "dataframe5 = input_dataframes[FLST_LOG_PREFIX].select(SCENARIO_NAME, ACID, BASELINE_ARRIVAL_TIME, DEL_TIME)\n",
    "dataframe5 = dataframe5.withColumn(\"delay\", (col(DEL_TIME) - col(BASELINE_ARRIVAL_TIME)))\n",
    "avg_delay= dataframe5.select(mean(\"delay\").alias(\"avg_delay\"))\n",
    "avg_delay.show()\n",
    "dataframe5 = dataframe5.join(avg_delay, how='outer')\n",
    "dataframe5.show()\n",
    "dataframe5.select(SCENARIO_NAME, ACID).where((col(\"delay\") > col(\"avg_delay\")+5) | (col(\"delay\") < col(\"avg_delay\")-5)).groupby(SCENARIO_NAME).count().withColumnRenamed(\"count\", AEQ5).show()\n"
   ]
  },
  {
   "cell_type": "code",
   "execution_count": 105,
   "metadata": {},
   "outputs": [
    {
     "name": "stdout",
     "output_type": "stream",
     "text": [
      "+------------------+------------------+\n",
      "|          Scenario|              AEQ3|\n",
      "+------------------+------------------+\n",
      "|1_very_low_40_8_W1|174.56794296252107|\n",
      "|1_very_low_40_8_R2|174.56794296252107|\n",
      "|3_very_low_40_8_W1|174.56794296252107|\n",
      "|3_very_low_40_8_R2|174.56794296252107|\n",
      "|2_very_low_40_8_W1|174.56794296252107|\n",
      "|2_very_low_40_8_R2|174.56794296252107|\n",
      "+------------------+------------------+\n",
      "\n"
     ]
    }
   ],
   "source": [
    "from pyspark.sql.functions import stddev\n",
    "dataframe6 = input_dataframes[FLST_LOG_PREFIX].select(SCENARIO_NAME, ACID, BASELINE_ARRIVAL_TIME, DEL_TIME)\n",
    "dataframe6 = dataframe6.groupby(SCENARIO_NAME).agg(stddev(col(DEL_TIME) - col(BASELINE_ARRIVAL_TIME)).alias(AEQ3))\n",
    "dataframe6.show()"
   ]
  }
 ],
 "metadata": {
  "kernelspec": {
   "display_name": "Python 3 (ipykernel)",
   "language": "python",
   "name": "python3"
  },
  "language_info": {
   "codemirror_mode": {
    "name": "ipython",
    "version": 3
   },
   "file_extension": ".py",
   "mimetype": "text/x-python",
   "name": "python",
   "nbconvert_exporter": "python",
   "pygments_lexer": "ipython3",
   "version": "3.8.12"
  }
 },
 "nbformat": 4,
 "nbformat_minor": 1
}
