{
 "cells": [
  {
   "cell_type": "code",
   "execution_count": 1,
   "metadata": {},
   "outputs": [],
   "source": [
    "import sys\n",
    "from pathlib import Path\n",
    "from typing import List, Dict\n",
    "\n",
    "from loguru import logger\n",
    "from pyspark.sql import SparkSession, DataFrame\n",
    "from pyspark.sql.functions import col"
   ]
  },
  {
   "cell_type": "code",
   "execution_count": 2,
   "outputs": [],
   "source": [
    "CONF_LOG_PREFIX = 'CONFLOG'\n",
    "FLST_LOG_PREFIX = 'FLSTLOG'\n",
    "GEO_LOG_PREFIX = 'GEOLOG'\n",
    "LOS_LOG_PREFIX = 'LOSLOG'\n",
    "REG_LOG_PREFIX = 'REGLOG'\n",
    "LOADING_PATH = '/mnt/shared/repos/metropolis/M2_data_analysis_platform/output'\n",
    "DATAFRAMES_NAMES = [CONF_LOG_PREFIX, FLST_LOG_PREFIX, GEO_LOG_PREFIX, LOS_LOG_PREFIX, REG_LOG_PREFIX]"
   ],
   "metadata": {
    "collapsed": false,
    "pycharm": {
     "name": "#%%\n"
    }
   }
  },
  {
   "cell_type": "markdown",
   "source": [
    "Give access to the constants that defines"
   ],
   "metadata": {
    "collapsed": false
   }
  },
  {
   "cell_type": "code",
   "execution_count": 3,
   "outputs": [],
   "source": [
    "sys.path.append(str(Path(Path().absolute().parent, 'platform_code')))\n",
    "from schemas.tables_attributes import *"
   ],
   "metadata": {
    "collapsed": false,
    "pycharm": {
     "name": "#%%\n"
    }
   }
  },
  {
   "cell_type": "code",
   "execution_count": 4,
   "outputs": [],
   "source": [
    "def load_dataframes(files_names: List[str], loading_path: str, spark: SparkSession) -> Dict[str, DataFrame]:\n",
    "    \"\"\" Loads the dataframes which macht the file names passed by arguments.\n",
    "    The method read from the config the path were to read the files, which\n",
    "    matches the folder where the files are saved in `save_dataframes_dict()`.\n",
    "\n",
    "    :param files_names: list of the names of the files.\n",
    "    :param loading_path: path were the files are saved.\n",
    "    :param spark: spark session.\n",
    "    :return: dictionary with the dataframes loaded from the files, with the\n",
    "     file name as key.\n",
    "    \"\"\"\n",
    "    dataframes = dict()\n",
    "\n",
    "    for file_name in files_names:\n",
    "        file_path = Path(loading_path, f'{file_name.lower()}.parquet')\n",
    "        logger.info('Loading dataframe from `{}`.', file_path)\n",
    "        df = spark.read.parquet(str(file_path))\n",
    "        dataframes[file_name] = df\n",
    "\n",
    "    return dataframes"
   ],
   "metadata": {
    "collapsed": false,
    "pycharm": {
     "name": "#%%\n"
    }
   }
  },
  {
   "cell_type": "code",
   "execution_count": 5,
   "outputs": [
    {
     "name": "stderr",
     "output_type": "stream",
     "text": [
      "22/03/24 14:08:50 WARN Utils: Your hostname, GRILUX-DEV resolves to a loopback address: 127.0.1.1; using 192.168.2.150 instead (on interface wlp3s0)\n",
      "22/03/24 14:08:50 WARN Utils: Set SPARK_LOCAL_IP if you need to bind to another address\n",
      "Using Spark's default log4j profile: org/apache/spark/log4j-defaults.properties\n",
      "Setting default log level to \"WARN\".\n",
      "To adjust logging level use sc.setLogLevel(newLevel). For SparkR, use setLogLevel(newLevel).\n",
      "22/03/24 14:09:01 WARN NativeCodeLoader: Unable to load native-hadoop library for your platform... using builtin-java classes where applicable\n"
     ]
    }
   ],
   "source": [
    "spark = SparkSession.builder.appName('Notebook').getOrCreate()"
   ],
   "metadata": {
    "collapsed": false,
    "pycharm": {
     "name": "#%%\n"
    }
   }
  },
  {
   "cell_type": "code",
   "execution_count": 6,
   "outputs": [
    {
     "name": "stderr",
     "output_type": "stream",
     "text": [
      "2022-03-24 14:09:05.518 | INFO     | __main__:load_dataframes:16 - Loading dataframe from `/mnt/shared/repos/metropolis/M2_data_analysis_platform/output/conflog.parquet`.\n",
      "2022-03-24 14:09:10.541 | INFO     | __main__:load_dataframes:16 - Loading dataframe from `/mnt/shared/repos/metropolis/M2_data_analysis_platform/output/flstlog.parquet`.\n",
      "2022-03-24 14:09:10.793 | INFO     | __main__:load_dataframes:16 - Loading dataframe from `/mnt/shared/repos/metropolis/M2_data_analysis_platform/output/geolog.parquet`.\n",
      "2022-03-24 14:09:10.985 | INFO     | __main__:load_dataframes:16 - Loading dataframe from `/mnt/shared/repos/metropolis/M2_data_analysis_platform/output/loslog.parquet`.\n",
      "2022-03-24 14:09:11.189 | INFO     | __main__:load_dataframes:16 - Loading dataframe from `/mnt/shared/repos/metropolis/M2_data_analysis_platform/output/reglog.parquet`.\n"
     ]
    }
   ],
   "source": [
    "input_dataframes = load_dataframes(DATAFRAMES_NAMES, LOADING_PATH, spark)"
   ],
   "metadata": {
    "collapsed": false,
    "pycharm": {
     "name": "#%%\n"
    }
   }
  },
  {
   "cell_type": "markdown",
   "source": [
    "For this metrics we are going to work with the combined FLST log and the flight intentions"
   ],
   "metadata": {
    "collapsed": false
   }
  },
  {
   "cell_type": "code",
   "execution_count": 7,
   "outputs": [],
   "source": [
    "dataframe = input_dataframes[FLST_LOG_PREFIX]"
   ],
   "metadata": {
    "collapsed": false,
    "pycharm": {
     "name": "#%%\n"
    }
   }
  },
  {
   "cell_type": "code",
   "execution_count": 8,
   "outputs": [
    {
     "data": {
      "text/plain": "DataFrame[Flight_id: bigint, Scenario: string, ACID: string, Origin_LAT: string, Origin_LON: string, Destination_LAT: string, Destination_LON: string, Baseline_departure_time: int, cruising_speed: double, Vertical_Speed: double, Priority: int, loitering: boolean, Baseline_2D_distance: string, Baseline_vertical_distance: double, Baseline_ascending_distance: double, Baseline_3D_distance: double, Baseline_flight_time: double, Baseline_arrival_time: double, Deletion_Time: double, Spawn_Time: double, Flight_time: string, Distance_2D: string, Distance_3D: double, Distance_ALT: double, Deletion_LAT: double, Deletion_LON: double, Deletion_ALT: double, Distance_ascend: double, Work_Done: double]"
     },
     "execution_count": 8,
     "metadata": {},
     "output_type": "execute_result"
    }
   ],
   "source": [
    "dataframe"
   ],
   "metadata": {
    "collapsed": false,
    "pycharm": {
     "name": "#%%\n"
    }
   }
  },
  {
   "cell_type": "markdown",
   "source": [
    "# EFF-1: Horizontal distance route efficiency\n",
    "Ratio representing the length of the ideal horizontal route to the actual horizontal route"
   ],
   "metadata": {
    "collapsed": false
   }
  },
  {
   "cell_type": "code",
   "execution_count": 9,
   "outputs": [],
   "source": [
    "result = dataframe\\\n",
    "    .select(SCENARIO_NAME, ACID, BASELINE_2D_DISTANCE, DISTANCE_2D)\\\n",
    "    .withColumn(EFF1, col(BASELINE_2D_DISTANCE) / col(DISTANCE_2D))\\\n",
    "    .drop(BASELINE_2D_DISTANCE)\\\n",
    "    .drop(DISTANCE_2D)"
   ],
   "metadata": {
    "collapsed": false,
    "pycharm": {
     "name": "#%%\n"
    }
   }
  },
  {
   "cell_type": "code",
   "execution_count": 10,
   "outputs": [
    {
     "name": "stdout",
     "output_type": "stream",
     "text": [
      "+------------------+----+------------------+\n",
      "|          Scenario|ACID|              EFF1|\n",
      "+------------------+----+------------------+\n",
      "|1_very_low_40_8_R2| D10|0.9608191768054934|\n",
      "|1_very_low_40_8_R2| D54|1.3723764634171112|\n",
      "|1_very_low_40_8_R2| D71| 0.986615721143255|\n",
      "|1_very_low_40_8_R2| D86|0.6955052389554486|\n",
      "|1_very_low_40_8_R2| D35|0.9702935756455379|\n",
      "|1_very_low_40_8_R2|D151|0.8564444665672379|\n",
      "|1_very_low_40_8_R2|D103| 0.717308511613168|\n",
      "|1_very_low_40_8_R2|  D5|1.1128596443377299|\n",
      "|1_very_low_40_8_R2| D85|0.9506608012506442|\n",
      "|1_very_low_40_8_R2|D158|0.8863571170429271|\n",
      "|1_very_low_40_8_R2|  D9|0.7569072761255073|\n",
      "|1_very_low_40_8_R2| D95| 0.961903398443339|\n",
      "|1_very_low_40_8_R2| D13|1.4695376745367321|\n",
      "|1_very_low_40_8_R2|D165|0.7777560566330564|\n",
      "|1_very_low_40_8_R2| D51|0.6212689771532777|\n",
      "|1_very_low_40_8_R2|D111|0.9290942686696004|\n",
      "|1_very_low_40_8_R2| D80| 0.779269642015952|\n",
      "|1_very_low_40_8_R2|D243| 0.773636817073662|\n",
      "|1_very_low_40_8_R2|D182|0.8608714171529597|\n",
      "|1_very_low_40_8_R2|D281| 1.082677351206176|\n",
      "+------------------+----+------------------+\n",
      "only showing top 20 rows\n",
      "\n"
     ]
    },
    {
     "name": "stderr",
     "output_type": "stream",
     "text": [
      "                                                                                \r"
     ]
    }
   ],
   "source": [
    "result.show()"
   ],
   "metadata": {
    "collapsed": false,
    "pycharm": {
     "name": "#%%\n"
    }
   }
  },
  {
   "cell_type": "markdown",
   "source": [
    "# EFF-2: Vertical distance route efficiency\n",
    "Ratio representing the length of the ideal vertical route to the actual vertical route"
   ],
   "metadata": {
    "collapsed": false
   }
  },
  {
   "cell_type": "code",
   "execution_count": 11,
   "outputs": [],
   "source": [
    "result = dataframe\\\n",
    "    .select(SCENARIO_NAME, ACID, DISTANCE_ALT, BASELINE_VERTICAL_DISTANCE)\\\n",
    "    .withColumn(EFF2, col(BASELINE_VERTICAL_DISTANCE) / col(DISTANCE_ALT))\\\n",
    "    .select(SCENARIO_NAME, ACID, EFF2)"
   ],
   "metadata": {
    "collapsed": false,
    "pycharm": {
     "name": "#%%\n"
    }
   }
  },
  {
   "cell_type": "code",
   "execution_count": 12,
   "outputs": [
    {
     "name": "stdout",
     "output_type": "stream",
     "text": [
      "+------------------+----+-------------------+\n",
      "|          Scenario|ACID|               EFF2|\n",
      "+------------------+----+-------------------+\n",
      "|1_very_low_40_8_R2| D10| 0.7488896774419824|\n",
      "|1_very_low_40_8_R2| D54| 0.8649445332694427|\n",
      "|1_very_low_40_8_R2| D71|  2.342047441293653|\n",
      "|1_very_low_40_8_R2| D86| 0.2979610377208245|\n",
      "|1_very_low_40_8_R2| D35|0.25603549266413506|\n",
      "|1_very_low_40_8_R2|D151| 0.2064746954420814|\n",
      "|1_very_low_40_8_R2|D103| 0.4010196325176394|\n",
      "|1_very_low_40_8_R2|  D5|0.39121434301321506|\n",
      "|1_very_low_40_8_R2| D85|0.15469155908233978|\n",
      "|1_very_low_40_8_R2|D158| 0.3421364861134499|\n",
      "|1_very_low_40_8_R2|  D9| 0.3215113433756687|\n",
      "|1_very_low_40_8_R2| D95| 0.1606758841779672|\n",
      "|1_very_low_40_8_R2| D13| 0.4214412151667422|\n",
      "|1_very_low_40_8_R2|D165|0.12044049666368782|\n",
      "|1_very_low_40_8_R2| D51|0.13773516241650005|\n",
      "|1_very_low_40_8_R2|D111|0.17076084286527474|\n",
      "|1_very_low_40_8_R2| D80|0.15023714557836682|\n",
      "|1_very_low_40_8_R2|D243|0.21215686411787774|\n",
      "|1_very_low_40_8_R2|D182|0.18440623390191205|\n",
      "|1_very_low_40_8_R2|D281|0.21350909022068584|\n",
      "+------------------+----+-------------------+\n",
      "only showing top 20 rows\n",
      "\n"
     ]
    }
   ],
   "source": [
    "result.show()"
   ],
   "metadata": {
    "collapsed": false,
    "pycharm": {
     "name": "#%%\n"
    }
   }
  },
  {
   "cell_type": "markdown",
   "source": [
    "# EFF-3: Ascending route efficiency\n",
    "Ratio representing the length of the ascending distance in the ideal route to the length of the ascending distance of the actual route"
   ],
   "metadata": {
    "collapsed": false
   }
  },
  {
   "cell_type": "code",
   "execution_count": 13,
   "outputs": [],
   "source": [
    "result = dataframe\\\n",
    "    .select(SCENARIO_NAME, ACID, DISTANCE_ASCEND, BASELINE_ASCENDING_DISTANCE)\\\n",
    "    .withColumn(EFF3, col(BASELINE_ASCENDING_DISTANCE) / col(DISTANCE_ASCEND))\\\n",
    "    .select(SCENARIO_NAME, ACID, EFF3)"
   ],
   "metadata": {
    "collapsed": false,
    "pycharm": {
     "name": "#%%\n"
    }
   }
  },
  {
   "cell_type": "code",
   "execution_count": 14,
   "outputs": [
    {
     "name": "stdout",
     "output_type": "stream",
     "text": [
      "+------------------+----+-------------------+\n",
      "|          Scenario|ACID|               EFF3|\n",
      "+------------------+----+-------------------+\n",
      "|1_very_low_40_8_R2| D10| 0.7488896774419824|\n",
      "|1_very_low_40_8_R2| D54| 0.8649445332694427|\n",
      "|1_very_low_40_8_R2| D71|  2.342047441293653|\n",
      "|1_very_low_40_8_R2| D86| 0.2979610377208245|\n",
      "|1_very_low_40_8_R2| D35|0.25603549266413506|\n",
      "|1_very_low_40_8_R2|D151| 0.2064746954420814|\n",
      "|1_very_low_40_8_R2|D103| 0.4010196325176394|\n",
      "|1_very_low_40_8_R2|  D5|0.39121434301321506|\n",
      "|1_very_low_40_8_R2| D85|0.15469155908233978|\n",
      "|1_very_low_40_8_R2|D158| 0.3421364861134499|\n",
      "|1_very_low_40_8_R2|  D9| 0.3215113433756687|\n",
      "|1_very_low_40_8_R2| D95| 0.1606758841779672|\n",
      "|1_very_low_40_8_R2| D13| 0.4214412151667422|\n",
      "|1_very_low_40_8_R2|D165|0.12044049666368782|\n",
      "|1_very_low_40_8_R2| D51|0.13773516241650005|\n",
      "|1_very_low_40_8_R2|D111|0.17076084286527474|\n",
      "|1_very_low_40_8_R2| D80|0.15023714557836682|\n",
      "|1_very_low_40_8_R2|D243|0.21215686411787774|\n",
      "|1_very_low_40_8_R2|D182|0.18440623390191205|\n",
      "|1_very_low_40_8_R2|D281|0.21350909022068584|\n",
      "+------------------+----+-------------------+\n",
      "only showing top 20 rows\n",
      "\n"
     ]
    }
   ],
   "source": [
    "result.show()"
   ],
   "metadata": {
    "collapsed": false,
    "pycharm": {
     "name": "#%%\n"
    }
   }
  },
  {
   "cell_type": "markdown",
   "source": [
    "# EFF-4: 3D distance route efficiency\n",
    "Ratio representing the 3D length of the ideal route to the 3D length of the actual route"
   ],
   "metadata": {
    "collapsed": false
   }
  },
  {
   "cell_type": "code",
   "execution_count": 15,
   "outputs": [],
   "source": [
    "result = dataframe\\\n",
    "    .select(SCENARIO_NAME, ACID, DISTANCE_3D, BASELINE_3D_DISTANCE)\\\n",
    "    .withColumn(EFF4, col(BASELINE_3D_DISTANCE) / col(DISTANCE_3D))\\\n",
    "    .select(SCENARIO_NAME, ACID, EFF4)"
   ],
   "metadata": {
    "collapsed": false,
    "pycharm": {
     "name": "#%%\n"
    }
   }
  },
  {
   "cell_type": "code",
   "execution_count": 16,
   "outputs": [
    {
     "name": "stdout",
     "output_type": "stream",
     "text": [
      "+------------------+----+------------------+\n",
      "|          Scenario|ACID|              EFF4|\n",
      "+------------------+----+------------------+\n",
      "|1_very_low_40_8_R2| D10|0.9442787850499214|\n",
      "|1_very_low_40_8_R2| D54|1.3615898651835148|\n",
      "|1_very_low_40_8_R2| D71|0.9895395564939459|\n",
      "|1_very_low_40_8_R2| D86|0.6912133709592109|\n",
      "|1_very_low_40_8_R2| D35|0.9502777218974685|\n",
      "|1_very_low_40_8_R2|D151|0.8214195002723466|\n",
      "|1_very_low_40_8_R2|D103|0.7096781312791104|\n",
      "|1_very_low_40_8_R2|  D5|1.1002670228183125|\n",
      "|1_very_low_40_8_R2| D85| 0.923034908493389|\n",
      "|1_very_low_40_8_R2|D158|0.8691639321328346|\n",
      "|1_very_low_40_8_R2|  D9| 0.750372462025529|\n",
      "|1_very_low_40_8_R2| D95|  0.94478907088306|\n",
      "|1_very_low_40_8_R2| D13|1.4483626924169273|\n",
      "|1_very_low_40_8_R2|D165|0.7360279670033341|\n",
      "|1_very_low_40_8_R2| D51|0.6023764442497584|\n",
      "|1_very_low_40_8_R2|D111|0.9053087706922391|\n",
      "|1_very_low_40_8_R2| D80|0.7642739947817306|\n",
      "|1_very_low_40_8_R2|D243|0.7514584613834485|\n",
      "|1_very_low_40_8_R2|D182|0.8456303479542867|\n",
      "|1_very_low_40_8_R2|D281| 1.053940248724719|\n",
      "+------------------+----+------------------+\n",
      "only showing top 20 rows\n",
      "\n"
     ]
    }
   ],
   "source": [
    "result.show()"
   ],
   "metadata": {
    "collapsed": false,
    "pycharm": {
     "name": "#%%\n"
    }
   }
  },
  {
   "cell_type": "markdown",
   "source": [
    "# EFF-5: Route duration efficiency\n",
    "Ratio representing the time duration of the ideal route to the time duration of the actual route"
   ],
   "metadata": {
    "collapsed": false
   }
  },
  {
   "cell_type": "code",
   "execution_count": 17,
   "outputs": [],
   "source": [
    "result = dataframe\\\n",
    "    .select(SCENARIO_NAME, ACID, FLIGHT_TIME, BASELINE_FLIGHT_TIME)\\\n",
    "    .withColumn(EFF5, col(BASELINE_FLIGHT_TIME) / col(FLIGHT_TIME))\\\n",
    "    .select(SCENARIO_NAME, ACID, EFF5)"
   ],
   "metadata": {
    "collapsed": false,
    "pycharm": {
     "name": "#%%\n"
    }
   }
  },
  {
   "cell_type": "code",
   "execution_count": 18,
   "outputs": [
    {
     "name": "stdout",
     "output_type": "stream",
     "text": [
      "+------------------+----+-------------------+\n",
      "|          Scenario|ACID|               EFF5|\n",
      "+------------------+----+-------------------+\n",
      "|1_very_low_40_8_R2| D10| 0.6686367592067566|\n",
      "|1_very_low_40_8_R2| D54| 1.0046308421667616|\n",
      "|1_very_low_40_8_R2| D71| 0.7236735625065744|\n",
      "|1_very_low_40_8_R2| D86| 0.4377566792578369|\n",
      "|1_very_low_40_8_R2| D35|  0.694186295648401|\n",
      "|1_very_low_40_8_R2|D151|0.41192136735883295|\n",
      "|1_very_low_40_8_R2|D103| 0.4627735822907179|\n",
      "|1_very_low_40_8_R2|  D5| 0.9924904188378142|\n",
      "|1_very_low_40_8_R2| D85| 0.5024162423372425|\n",
      "|1_very_low_40_8_R2|D158| 0.4595177209632804|\n",
      "|1_very_low_40_8_R2|  D9| 0.7019232154215249|\n",
      "|1_very_low_40_8_R2| D95| 0.5996442976574768|\n",
      "|1_very_low_40_8_R2| D13| 1.3448234975739657|\n",
      "|1_very_low_40_8_R2|D165|0.33477565577859153|\n",
      "|1_very_low_40_8_R2| D51|0.48363602264578465|\n",
      "|1_very_low_40_8_R2|D111| 0.6255753200329853|\n",
      "|1_very_low_40_8_R2| D80| 0.5071576713561103|\n",
      "|1_very_low_40_8_R2|D243|0.32289081029585354|\n",
      "|1_very_low_40_8_R2|D182|0.40044729399341245|\n",
      "|1_very_low_40_8_R2|D281| 0.3568091021846606|\n",
      "+------------------+----+-------------------+\n",
      "only showing top 20 rows\n",
      "\n"
     ]
    }
   ],
   "source": [
    "result.show()"
   ],
   "metadata": {
    "collapsed": false,
    "pycharm": {
     "name": "#%%\n"
    }
   }
  },
  {
   "cell_type": "markdown",
   "source": [
    "# EFF-6: Departure delay\n",
    "Time duration from the planned departure time until the actual departure time of the aircraft"
   ],
   "metadata": {
    "collapsed": false
   }
  },
  {
   "cell_type": "code",
   "execution_count": 23,
   "outputs": [],
   "source": [
    "result = dataframe\\\n",
    "    .select(SCENARIO_NAME, ACID, SPAWN_TIME, BASELINE_DEPARTURE_TIME)\\\n",
    "    .withColumn(EFF6, col(SPAWN_TIME) - col(BASELINE_DEPARTURE_TIME))\\\n",
    "    .select(SCENARIO_NAME, ACID, EFF6)"
   ],
   "metadata": {
    "collapsed": false,
    "pycharm": {
     "name": "#%%\n"
    }
   }
  },
  {
   "cell_type": "code",
   "execution_count": 25,
   "outputs": [
    {
     "name": "stdout",
     "output_type": "stream",
     "text": [
      "+------------------+----+----------+-----------------------+----+\n",
      "|          Scenario|ACID|Spawn_Time|Baseline_departure_time|EFF5|\n",
      "+------------------+----+----------+-----------------------+----+\n",
      "|1_very_low_40_8_R2| D10|       8.0|                      8| 0.0|\n",
      "|1_very_low_40_8_R2| D54|      35.0|                     35| 0.0|\n",
      "|1_very_low_40_8_R2| D71|      45.0|                     45| 0.0|\n",
      "|1_very_low_40_8_R2| D86|      57.0|                     57| 0.0|\n",
      "|1_very_low_40_8_R2| D35|      21.0|                     21| 0.0|\n",
      "|1_very_low_40_8_R2|D151|     104.0|                    104| 0.0|\n",
      "|1_very_low_40_8_R2|D103|      68.0|                     68| 0.0|\n",
      "|1_very_low_40_8_R2|  D5|       6.0|                      6| 0.0|\n",
      "|1_very_low_40_8_R2| D85|      57.0|                     57| 0.0|\n",
      "|1_very_low_40_8_R2|D158|     110.0|                    110| 0.0|\n",
      "|1_very_low_40_8_R2|  D9|       8.0|                      8| 0.0|\n",
      "|1_very_low_40_8_R2| D95|      63.0|                     63| 0.0|\n",
      "|1_very_low_40_8_R2| D13|      10.0|                     10| 0.0|\n",
      "|1_very_low_40_8_R2|D165|     117.0|                    117| 0.0|\n",
      "|1_very_low_40_8_R2| D51|      33.0|                     33| 0.0|\n",
      "|1_very_low_40_8_R2|D111|      76.0|                     76| 0.0|\n",
      "|1_very_low_40_8_R2| D80|      53.0|                     53| 0.0|\n",
      "|1_very_low_40_8_R2|D243|     170.0|                    170| 0.0|\n",
      "|1_very_low_40_8_R2|D182|     129.0|                    129| 0.0|\n",
      "|1_very_low_40_8_R2|D281|     203.0|                    203| 0.0|\n",
      "|1_very_low_40_8_R2| D61|      40.0|                     40| 0.0|\n",
      "|1_very_low_40_8_R2|  D6|       6.0|                      6| 0.0|\n",
      "|1_very_low_40_8_R2| D16|      12.0|                     12| 0.0|\n",
      "|1_very_low_40_8_R2|  D1|       0.0|                      0| 0.0|\n",
      "|1_very_low_40_8_R2| D89|      60.0|                     60| 0.0|\n",
      "|1_very_low_40_8_R2| D60|      40.0|                     40| 0.0|\n",
      "|1_very_low_40_8_R2|D133|      90.0|                     90| 0.0|\n",
      "|1_very_low_40_8_R2| D73|      48.0|                     48| 0.0|\n",
      "|1_very_low_40_8_R2| D41|      23.0|                     23| 0.0|\n",
      "|1_very_low_40_8_R2|D363|     263.0|                    263| 0.0|\n",
      "|1_very_low_40_8_R2| D34|      20.0|                     20| 0.0|\n",
      "|1_very_low_40_8_R2|D356|     256.0|                    256| 0.0|\n",
      "|1_very_low_40_8_R2| D59|      38.0|                     38| 0.0|\n",
      "|1_very_low_40_8_R2|D145|     101.0|                    101| 0.0|\n",
      "|1_very_low_40_8_R2|D406|     289.0|                    289| 0.0|\n",
      "|1_very_low_40_8_R2| D88|      59.0|                     59| 0.0|\n",
      "|1_very_low_40_8_R2| D92|      61.0|                     61| 0.0|\n",
      "|1_very_low_40_8_R2|D154|     110.0|                    106| 4.0|\n",
      "|1_very_low_40_8_R2|D263|     184.0|                    184| 0.0|\n",
      "|1_very_low_40_8_R2|D441|     314.0|                    314| 0.0|\n",
      "|1_very_low_40_8_R2|D118|      80.0|                     80| 0.0|\n",
      "|1_very_low_40_8_R2| D50|      31.0|                     31| 0.0|\n",
      "|1_very_low_40_8_R2|D117|      95.0|                     79|16.0|\n",
      "|1_very_low_40_8_R2|D115|      78.0|                     78| 0.0|\n",
      "|1_very_low_40_8_R2|D219|     156.0|                    156| 0.0|\n",
      "|1_very_low_40_8_R2|D193|     137.0|                    137| 0.0|\n",
      "|1_very_low_40_8_R2|D179|     130.0|                    128| 2.0|\n",
      "|1_very_low_40_8_R2|D288|     208.0|                    208| 0.0|\n",
      "|1_very_low_40_8_R2| D31|      19.0|                     19| 0.0|\n",
      "|1_very_low_40_8_R2| D68|      44.0|                     44| 0.0|\n",
      "+------------------+----+----------+-----------------------+----+\n",
      "only showing top 50 rows\n",
      "\n"
     ]
    }
   ],
   "source": [
    "result.show()"
   ],
   "metadata": {
    "collapsed": false,
    "pycharm": {
     "name": "#%%\n"
    }
   }
  }
 ],
 "metadata": {
  "kernelspec": {
   "display_name": "Python 3 (ipykernel)",
   "language": "python",
   "name": "python3"
  },
  "language_info": {
   "codemirror_mode": {
    "name": "ipython",
    "version": 3
   },
   "file_extension": ".py",
   "mimetype": "text/x-python",
   "name": "python",
   "nbconvert_exporter": "python",
   "pygments_lexer": "ipython3",
   "version": "3.8.12"
  }
 },
 "nbformat": 4,
 "nbformat_minor": 1
}