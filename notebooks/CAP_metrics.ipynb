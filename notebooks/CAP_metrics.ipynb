{
 "cells": [
  {
   "cell_type": "code",
   "execution_count": 94,
   "metadata": {},
   "outputs": [],
   "source": [
    "import sys\n",
    "from pathlib import Path\n",
    "from typing import List, Dict\n",
    "\n",
    "from loguru import logger\n",
    "from pyspark.sql import SparkSession, DataFrame\n",
    "from pyspark.sql.functions import col, mean, length, lit"
   ]
  },
  {
   "cell_type": "code",
   "execution_count": 2,
   "outputs": [],
   "source": [
    "CONF_LOG_PREFIX = 'CONFLOG'\n",
    "FLST_LOG_PREFIX = 'FLSTLOG'\n",
    "GEO_LOG_PREFIX = 'GEOLOG'\n",
    "LOS_LOG_PREFIX = 'LOSLOG'\n",
    "REG_LOG_PREFIX = 'REGLOG'\n",
    "LOADING_PATH = '/mnt/shared/repos/metropolis/M2_data_analysis_platform/output'\n",
    "DATAFRAMES_NAMES = [CONF_LOG_PREFIX, FLST_LOG_PREFIX, GEO_LOG_PREFIX, LOS_LOG_PREFIX, REG_LOG_PREFIX]"
   ],
   "metadata": {
    "collapsed": false,
    "pycharm": {
     "name": "#%%\n"
    }
   }
  },
  {
   "cell_type": "markdown",
   "source": [
    "Give access to the constants that defines"
   ],
   "metadata": {
    "collapsed": false
   }
  },
  {
   "cell_type": "code",
   "execution_count": 78,
   "outputs": [],
   "source": [
    "sys.path.append(str(Path(Path().absolute().parent, 'platform_code')))\n",
    "from schemas.tables_attributes import *"
   ],
   "metadata": {
    "collapsed": false,
    "pycharm": {
     "name": "#%%\n"
    }
   }
  },
  {
   "cell_type": "code",
   "execution_count": 4,
   "outputs": [],
   "source": [
    "def load_dataframes(files_names: List[str], loading_path: str, spark: SparkSession) -> Dict[str, DataFrame]:\n",
    "    \"\"\" Loads the dataframes which macht the file names passed by arguments.\n",
    "    The method read from the config the path were to read the files, which\n",
    "    matches the folder where the files are saved in `save_dataframes_dict()`.\n",
    "\n",
    "    :param files_names: list of the names of the files.\n",
    "    :param loading_path: path were the files are saved.\n",
    "    :param spark: spark session.\n",
    "    :return: dictionary with the dataframes loaded from the files, with the\n",
    "     file name as key.\n",
    "    \"\"\"\n",
    "    dataframes = dict()\n",
    "\n",
    "    for file_name in files_names:\n",
    "        file_path = Path(loading_path, f'{file_name.lower()}.parquet')\n",
    "        logger.info('Loading dataframe from `{}`.', file_path)\n",
    "        df = spark.read.parquet(str(file_path))\n",
    "        dataframes[file_name] = df\n",
    "\n",
    "    return dataframes"
   ],
   "metadata": {
    "collapsed": false,
    "pycharm": {
     "name": "#%%\n"
    }
   }
  },
  {
   "cell_type": "code",
   "execution_count": 5,
   "outputs": [
    {
     "name": "stderr",
     "output_type": "stream",
     "text": [
      "22/04/04 16:46:07 WARN Utils: Your hostname, GRILUX-DEV resolves to a loopback address: 127.0.1.1; using 192.168.2.150 instead (on interface wlp3s0)\n",
      "22/04/04 16:46:07 WARN Utils: Set SPARK_LOCAL_IP if you need to bind to another address\n",
      "Using Spark's default log4j profile: org/apache/spark/log4j-defaults.properties\n",
      "Setting default log level to \"WARN\".\n",
      "To adjust logging level use sc.setLogLevel(newLevel). For SparkR, use setLogLevel(newLevel).\n",
      "22/04/04 16:46:18 WARN NativeCodeLoader: Unable to load native-hadoop library for your platform... using builtin-java classes where applicable\n"
     ]
    }
   ],
   "source": [
    "spark = SparkSession.builder.appName('Notebook').getOrCreate()"
   ],
   "metadata": {
    "collapsed": false,
    "pycharm": {
     "name": "#%%\n"
    }
   }
  },
  {
   "cell_type": "code",
   "execution_count": 6,
   "outputs": [
    {
     "name": "stderr",
     "output_type": "stream",
     "text": [
      "2022-04-04 16:46:21.893 | INFO     | __main__:load_dataframes:16 - Loading dataframe from `/mnt/shared/repos/metropolis/M2_data_analysis_platform/output/conflog.parquet`.\n",
      "2022-04-04 16:46:27.201 | INFO     | __main__:load_dataframes:16 - Loading dataframe from `/mnt/shared/repos/metropolis/M2_data_analysis_platform/output/flstlog.parquet`.\n",
      "2022-04-04 16:46:27.541 | INFO     | __main__:load_dataframes:16 - Loading dataframe from `/mnt/shared/repos/metropolis/M2_data_analysis_platform/output/geolog.parquet`.\n",
      "2022-04-04 16:46:27.816 | INFO     | __main__:load_dataframes:16 - Loading dataframe from `/mnt/shared/repos/metropolis/M2_data_analysis_platform/output/loslog.parquet`.\n",
      "2022-04-04 16:46:28.078 | INFO     | __main__:load_dataframes:16 - Loading dataframe from `/mnt/shared/repos/metropolis/M2_data_analysis_platform/output/reglog.parquet`.\n"
     ]
    }
   ],
   "source": [
    "input_dataframes = load_dataframes(DATAFRAMES_NAMES, LOADING_PATH, spark)"
   ],
   "metadata": {
    "collapsed": false,
    "pycharm": {
     "name": "#%%\n"
    }
   }
  },
  {
   "cell_type": "markdown",
   "source": [
    "For this metrics we are going to work with the combined FLST log and the flight intentions"
   ],
   "metadata": {
    "collapsed": false
   }
  },
  {
   "cell_type": "markdown",
   "source": [
    "# CAP-1: Average demand delay\n",
    "Although a flight intention delay represents direct measure of the system efficiency, it can also be used as a proxy for the lack of the system capacity as previously explained. The more flights are delayed, the bigger the capacity problem is. Hence, it can be used for the relative comparison of the concepts\n",
    "\n",
    "Average demand delay is computed as the arithmetic mean of the delays of all flight intentions in an scenario."
   ],
   "metadata": {
    "collapsed": false
   }
  },
  {
   "cell_type": "code",
   "execution_count": 7,
   "outputs": [],
   "source": [
    "dataframe = input_dataframes[FLST_LOG_PREFIX]"
   ],
   "metadata": {
    "collapsed": false,
    "pycharm": {
     "name": "#%%\n"
    }
   }
  },
  {
   "cell_type": "code",
   "execution_count": 8,
   "outputs": [],
   "source": [
    "cap_1_result = dataframe\\\n",
    "    .select(SCENARIO_NAME, BASELINE_ARRIVAL_TIME, DEL_TIME)\\\n",
    "    .groupby(SCENARIO_NAME)\\\n",
    "    .agg(mean(col(DEL_TIME) - col(BASELINE_ARRIVAL_TIME)).alias(CAP1))"
   ],
   "metadata": {
    "collapsed": false,
    "pycharm": {
     "name": "#%%\n"
    }
   }
  },
  {
   "cell_type": "code",
   "execution_count": 9,
   "outputs": [
    {
     "name": "stderr",
     "output_type": "stream",
     "text": [
      "[Stage 5:>                                                          (0 + 4) / 4]\r"
     ]
    },
    {
     "name": "stdout",
     "output_type": "stream",
     "text": [
      "+------------------+------------------+\n",
      "|          Scenario|              CAP1|\n",
      "+------------------+------------------+\n",
      "|1_very_low_40_8_R2|173.02193691854063|\n",
      "|3_very_low_40_8_R2|173.02193691854063|\n",
      "|2_very_low_40_8_R1|173.02193691854063|\n",
      "|2_very_low_40_8_W1|173.02193691854063|\n",
      "|1_very_low_40_8_R1|173.02193691854063|\n",
      "|3_very_low_40_8_W1|173.02193691854063|\n",
      "|3_very_low_40_8_R1|173.02193691854063|\n",
      "|1_very_low_40_8_W1|173.02193691854063|\n",
      "|2_very_low_40_8_R2|173.02193691854063|\n",
      "|   1_very_low_40_8|173.02193691854063|\n",
      "|   2_very_low_40_8|173.02193691854063|\n",
      "|   3_very_low_40_8|173.02193691854063|\n",
      "+------------------+------------------+\n",
      "\n"
     ]
    },
    {
     "name": "stderr",
     "output_type": "stream",
     "text": [
      "                                                                                \r"
     ]
    }
   ],
   "source": [
    "cap_1_result.show()"
   ],
   "metadata": {
    "collapsed": false,
    "pycharm": {
     "name": "#%%\n"
    }
   }
  },
  {
   "cell_type": "markdown",
   "source": [
    "# CAP-2: Average number of intrusions\n",
    "Is a ratio of the total number of intrusions with respect of the number of flight intention in the scenario."
   ],
   "metadata": {
    "collapsed": false
   }
  },
  {
   "cell_type": "code",
   "execution_count": 10,
   "outputs": [],
   "source": [
    "los_log_df = input_dataframes[LOS_LOG_PREFIX]\n",
    "flst_log_df = input_dataframes[FLST_LOG_PREFIX]"
   ],
   "metadata": {
    "collapsed": false,
    "pycharm": {
     "name": "#%%\n"
    }
   }
  },
  {
   "cell_type": "code",
   "execution_count": 11,
   "outputs": [],
   "source": [
    "saf_2_result = los_log_df\\\n",
    "    .groupBy(SCENARIO_NAME)\\\n",
    "    .count()\\\n",
    "    .select(SCENARIO_NAME, col('count').alias(SAF2))"
   ],
   "metadata": {
    "collapsed": false,
    "pycharm": {
     "name": "#%%\n"
    }
   }
  },
  {
   "cell_type": "code",
   "execution_count": 12,
   "outputs": [
    {
     "name": "stdout",
     "output_type": "stream",
     "text": [
      "+------------------+----+\n",
      "|          Scenario|SAF2|\n",
      "+------------------+----+\n",
      "|2_very_low_40_8_W1| 785|\n",
      "|3_very_low_40_8_W1| 785|\n",
      "|2_very_low_40_8_R1| 785|\n",
      "|3_very_low_40_8_R1| 785|\n",
      "|1_very_low_40_8_W1| 785|\n",
      "|1_very_low_40_8_R1| 785|\n",
      "|1_very_low_40_8_R2| 785|\n",
      "|3_very_low_40_8_R2| 785|\n",
      "|2_very_low_40_8_R2| 785|\n",
      "|   1_very_low_40_8| 785|\n",
      "|   2_very_low_40_8| 785|\n",
      "|   3_very_low_40_8| 785|\n",
      "+------------------+----+\n",
      "\n"
     ]
    }
   ],
   "source": [
    "saf_2_result.show()"
   ],
   "metadata": {
    "collapsed": false,
    "pycharm": {
     "name": "#%%\n"
    }
   }
  },
  {
   "cell_type": "code",
   "execution_count": 13,
   "outputs": [],
   "source": [
    "number_of_flights = flst_log_df\\\n",
    "    .groupby(SCENARIO_NAME)\\\n",
    "    .count()\\\n",
    "    .select([SCENARIO_NAME, col('count').alias('num_flights')])"
   ],
   "metadata": {
    "collapsed": false,
    "pycharm": {
     "name": "#%%\n"
    }
   }
  },
  {
   "cell_type": "code",
   "execution_count": 14,
   "outputs": [
    {
     "name": "stdout",
     "output_type": "stream",
     "text": [
      "+------------------+-----------+\n",
      "|          Scenario|num_flights|\n",
      "+------------------+-----------+\n",
      "|1_very_low_40_8_R2|       3760|\n",
      "|3_very_low_40_8_R2|       3760|\n",
      "|2_very_low_40_8_R1|       3760|\n",
      "|2_very_low_40_8_W1|       3760|\n",
      "|1_very_low_40_8_R1|       3760|\n",
      "|3_very_low_40_8_W1|       3760|\n",
      "|3_very_low_40_8_R1|       3760|\n",
      "|1_very_low_40_8_W1|       3760|\n",
      "|2_very_low_40_8_R2|       3760|\n",
      "|   1_very_low_40_8|       3760|\n",
      "|   2_very_low_40_8|       3760|\n",
      "|   3_very_low_40_8|       3760|\n",
      "+------------------+-----------+\n",
      "\n"
     ]
    }
   ],
   "source": [
    "number_of_flights.show()"
   ],
   "metadata": {
    "collapsed": false,
    "pycharm": {
     "name": "#%%\n"
    }
   }
  },
  {
   "cell_type": "code",
   "execution_count": 15,
   "outputs": [],
   "source": [
    "cap_2_result = saf_2_result.join(number_of_flights, on=SCENARIO_NAME)\\\n",
    "    .withColumn(CAP2, col(SAF2) / col('num_flights'))\\\n",
    "    .select(SCENARIO_NAME, CAP2)"
   ],
   "metadata": {
    "collapsed": false,
    "pycharm": {
     "name": "#%%\n"
    }
   }
  },
  {
   "cell_type": "code",
   "execution_count": 16,
   "outputs": [
    {
     "name": "stdout",
     "output_type": "stream",
     "text": [
      "+------------------+-------------------+\n",
      "|          Scenario|               CAP2|\n",
      "+------------------+-------------------+\n",
      "|1_very_low_40_8_R2|0.20877659574468085|\n",
      "|3_very_low_40_8_R2|0.20877659574468085|\n",
      "|2_very_low_40_8_R1|0.20877659574468085|\n",
      "|2_very_low_40_8_W1|0.20877659574468085|\n",
      "|1_very_low_40_8_R1|0.20877659574468085|\n",
      "|3_very_low_40_8_W1|0.20877659574468085|\n",
      "|3_very_low_40_8_R1|0.20877659574468085|\n",
      "|1_very_low_40_8_W1|0.20877659574468085|\n",
      "|2_very_low_40_8_R2|0.20877659574468085|\n",
      "|   1_very_low_40_8|0.20877659574468085|\n",
      "|   2_very_low_40_8|0.20877659574468085|\n",
      "|   3_very_low_40_8|0.20877659574468085|\n",
      "+------------------+-------------------+\n",
      "\n"
     ]
    }
   ],
   "source": [
    "cap_2_result.show()"
   ],
   "metadata": {
    "collapsed": false,
    "pycharm": {
     "name": "#%%\n"
    }
   }
  },
  {
   "cell_type": "markdown",
   "source": [
    "Join the results"
   ],
   "metadata": {
    "collapsed": false
   }
  },
  {
   "cell_type": "code",
   "execution_count": 85,
   "outputs": [],
   "source": [
    "results = cap_1_result.join(cap_2_result,\n",
    "                            on=SCENARIO_NAME)"
   ],
   "metadata": {
    "collapsed": false,
    "pycharm": {
     "name": "#%%\n"
    }
   }
  },
  {
   "cell_type": "code",
   "execution_count": 86,
   "outputs": [
    {
     "name": "stdout",
     "output_type": "stream",
     "text": [
      "+------------------+------------------+-------------------+\n",
      "|          Scenario|              CAP1|               CAP2|\n",
      "+------------------+------------------+-------------------+\n",
      "|1_very_low_40_8_R2|173.02193691854063|0.20877659574468085|\n",
      "|3_very_low_40_8_R2|173.02193691854063|0.20877659574468085|\n",
      "|2_very_low_40_8_R1|173.02193691854063|0.20877659574468085|\n",
      "|2_very_low_40_8_W1|173.02193691854063|0.20877659574468085|\n",
      "|1_very_low_40_8_R1|173.02193691854063|0.20877659574468085|\n",
      "|3_very_low_40_8_W1|173.02193691854063|0.20877659574468085|\n",
      "|3_very_low_40_8_R1|173.02193691854063|0.20877659574468085|\n",
      "|1_very_low_40_8_W1|173.02193691854063|0.20877659574468085|\n",
      "|2_very_low_40_8_R2|173.02193691854063|0.20877659574468085|\n",
      "|   1_very_low_40_8|173.02193691854063|0.20877659574468085|\n",
      "|   2_very_low_40_8|173.02193691854063|0.20877659574468085|\n",
      "|   3_very_low_40_8|173.02193691854063|0.20877659574468085|\n",
      "+------------------+------------------+-------------------+\n",
      "\n"
     ]
    }
   ],
   "source": [
    "results.show()"
   ],
   "metadata": {
    "collapsed": false,
    "pycharm": {
     "name": "#%%\n"
    }
   }
  },
  {
   "cell_type": "markdown",
   "source": [
    "# CAP-3 and CAP-4: Relating rogue scenarios with baseline ones\n",
    "These metric uses the CAP-1 and CAP-2 and compares the baseline without uncertainties with the scenarios where it exists of a rogue carrier, in this case, concretely the ones that end in R1, R2 or R3."
   ],
   "metadata": {
    "collapsed": false
   }
  },
  {
   "cell_type": "markdown",
   "source": [
    "Pick those scenarios with a rogue, that are such of them that finish wth R1, R2 or R3"
   ],
   "metadata": {
    "collapsed": false
   }
  },
  {
   "cell_type": "code",
   "execution_count": 87,
   "outputs": [],
   "source": [
    "scenarios_with_rogue = results.where(col(SCENARIO_NAME).rlike('.*_R[1,2,3]'))"
   ],
   "metadata": {
    "collapsed": false,
    "pycharm": {
     "name": "#%%\n"
    }
   }
  },
  {
   "cell_type": "code",
   "execution_count": 88,
   "outputs": [
    {
     "name": "stdout",
     "output_type": "stream",
     "text": [
      "+------------------+------------------+-------------------+\n",
      "|          Scenario|              CAP1|               CAP2|\n",
      "+------------------+------------------+-------------------+\n",
      "|1_very_low_40_8_R2|173.02193691854063|0.20877659574468085|\n",
      "|3_very_low_40_8_R2|173.02193691854063|0.20877659574468085|\n",
      "|2_very_low_40_8_R1|173.02193691854063|0.20877659574468085|\n",
      "|1_very_low_40_8_R1|173.02193691854063|0.20877659574468085|\n",
      "|3_very_low_40_8_R1|173.02193691854063|0.20877659574468085|\n",
      "|2_very_low_40_8_R2|173.02193691854063|0.20877659574468085|\n",
      "+------------------+------------------+-------------------+\n",
      "\n"
     ]
    }
   ],
   "source": [
    "scenarios_with_rogue.show()"
   ],
   "metadata": {
    "collapsed": false,
    "pycharm": {
     "name": "#%%\n"
    }
   }
  },
  {
   "cell_type": "markdown",
   "source": [
    "Pick those scenarios without uncertainty, which are those without rogues or wind.\n",
    "Rename the column to identify it after join."
   ],
   "metadata": {
    "collapsed": false
   }
  },
  {
   "cell_type": "code",
   "execution_count": 112,
   "outputs": [],
   "source": [
    "scenarios_without_uncertainty = results\\\n",
    "    .where(col(SCENARIO_NAME).rlike('.*_[R|W][1,2,3,5]') == False)\\\n",
    "    .select(col(SCENARIO_NAME).alias(f'Ref_{SCENARIO_NAME}'), col(CAP1).alias(f'Ref_{CAP1}'), col(CAP2).alias(f'Ref_{CAP2}'))"
   ],
   "metadata": {
    "collapsed": false,
    "pycharm": {
     "name": "#%%\n"
    }
   }
  },
  {
   "cell_type": "code",
   "execution_count": 113,
   "outputs": [
    {
     "name": "stdout",
     "output_type": "stream",
     "text": [
      "+------------+--------+--------+\n",
      "|Ref_Scenario|Ref_CAP1|Ref_CAP2|\n",
      "+------------+--------+--------+\n",
      "+------------+--------+--------+\n",
      "\n"
     ]
    }
   ],
   "source": [
    "scenarios_without_uncertainty.show()"
   ],
   "metadata": {
    "collapsed": false,
    "pycharm": {
     "name": "#%%\n"
    }
   }
  },
  {
   "cell_type": "markdown",
   "source": [
    "Now, relate both types of scenarios by removing the uncertainty part of the scenario name.\n",
    "Thus, we remove the trailing '_R1', '_R2', '_R3' from the scenario names of the executions with uncertainty."
   ],
   "metadata": {
    "collapsed": false
   }
  },
  {
   "cell_type": "code",
   "execution_count": 95,
   "outputs": [],
   "source": [
    "scenarios_with_rogue = scenarios_with_rogue\\\n",
    "    .withColumn(f'{SCENARIO_NAME}_LENGTH', length(col(SCENARIO_NAME)))\\\n",
    "    .withColumn(f'Ref_{SCENARIO_NAME}', (col(SCENARIO_NAME).substr(lit(0), col(f'{SCENARIO_NAME}_LENGTH') - lit(3))))\\\n",
    "    .drop(f'{SCENARIO_NAME}_LENGTH')"
   ],
   "metadata": {
    "collapsed": false,
    "pycharm": {
     "name": "#%%\n"
    }
   }
  },
  {
   "cell_type": "code",
   "execution_count": 96,
   "outputs": [
    {
     "name": "stdout",
     "output_type": "stream",
     "text": [
      "+------------------+------------------+-------------------+---------------+\n",
      "|          Scenario|              CAP1|               CAP2|   Ref_Scenario|\n",
      "+------------------+------------------+-------------------+---------------+\n",
      "|1_very_low_40_8_R2|173.02193691854063|0.20877659574468085|1_very_low_40_8|\n",
      "|3_very_low_40_8_R2|173.02193691854063|0.20877659574468085|3_very_low_40_8|\n",
      "|2_very_low_40_8_R1|173.02193691854063|0.20877659574468085|2_very_low_40_8|\n",
      "|1_very_low_40_8_R1|173.02193691854063|0.20877659574468085|1_very_low_40_8|\n",
      "|3_very_low_40_8_R1|173.02193691854063|0.20877659574468085|3_very_low_40_8|\n",
      "|2_very_low_40_8_R2|173.02193691854063|0.20877659574468085|2_very_low_40_8|\n",
      "+------------------+------------------+-------------------+---------------+\n",
      "\n"
     ]
    }
   ],
   "source": [
    "scenarios_with_rogue.show()"
   ],
   "metadata": {
    "collapsed": false,
    "pycharm": {
     "name": "#%%\n"
    }
   }
  },
  {
   "cell_type": "markdown",
   "source": [
    "Join the tables, to have the reference CAP1 and CAP2 metrics"
   ],
   "metadata": {
    "collapsed": false
   }
  },
  {
   "cell_type": "code",
   "execution_count": 97,
   "outputs": [],
   "source": [
    "scenarios = scenarios_with_rogue.join(scenarios_without_uncertainty,\n",
    "                                      on=f'Ref_{SCENARIO_NAME}')"
   ],
   "metadata": {
    "collapsed": false,
    "pycharm": {
     "name": "#%%\n"
    }
   }
  },
  {
   "cell_type": "code",
   "execution_count": 98,
   "outputs": [
    {
     "name": "stderr",
     "output_type": "stream",
     "text": [
      "                                                                                \r"
     ]
    },
    {
     "name": "stdout",
     "output_type": "stream",
     "text": [
      "+---------------+------------------+------------------+-------------------+------------------+-------------------+\n",
      "|   Ref_Scenario|          Scenario|              CAP1|               CAP2|          Ref_CAP1|           Ref_CAP2|\n",
      "+---------------+------------------+------------------+-------------------+------------------+-------------------+\n",
      "|1_very_low_40_8|1_very_low_40_8_R2|173.02193691854063|0.20877659574468085|173.02193691854063|0.20877659574468085|\n",
      "|3_very_low_40_8|3_very_low_40_8_R2|173.02193691854063|0.20877659574468085|173.02193691854063|0.20877659574468085|\n",
      "|2_very_low_40_8|2_very_low_40_8_R1|173.02193691854063|0.20877659574468085|173.02193691854063|0.20877659574468085|\n",
      "|1_very_low_40_8|1_very_low_40_8_R1|173.02193691854063|0.20877659574468085|173.02193691854063|0.20877659574468085|\n",
      "|3_very_low_40_8|3_very_low_40_8_R1|173.02193691854063|0.20877659574468085|173.02193691854063|0.20877659574468085|\n",
      "|2_very_low_40_8|2_very_low_40_8_R2|173.02193691854063|0.20877659574468085|173.02193691854063|0.20877659574468085|\n",
      "+---------------+------------------+------------------+-------------------+------------------+-------------------+\n",
      "\n"
     ]
    }
   ],
   "source": [
    "scenarios.show()"
   ],
   "metadata": {
    "collapsed": false,
    "pycharm": {
     "name": "#%%\n"
    }
   }
  },
  {
   "cell_type": "markdown",
   "source": [
    "# CAP-3: Additional demand delay\n",
    "Calculates the magnitude of delay increase (CAP-1) due to the fact of the existence of rogue aircraft."
   ],
   "metadata": {
    "collapsed": false
   }
  },
  {
   "cell_type": "code",
   "execution_count": 103,
   "outputs": [],
   "source": [
    "results = scenarios\\\n",
    "    .withColumn('CAP3', col(f'Ref_{CAP1}') - col(CAP1))"
   ],
   "metadata": {
    "collapsed": false,
    "pycharm": {
     "name": "#%%\n"
    }
   }
  },
  {
   "cell_type": "code",
   "execution_count": 104,
   "outputs": [
    {
     "name": "stderr",
     "output_type": "stream",
     "text": [
      "                                                                                \r"
     ]
    },
    {
     "name": "stdout",
     "output_type": "stream",
     "text": [
      "+---------------+------------------+------------------+-------------------+------------------+-------------------+----+\n",
      "|   Ref_Scenario|          Scenario|              CAP1|               CAP2|          Ref_CAP1|           Ref_CAP2|CAP3|\n",
      "+---------------+------------------+------------------+-------------------+------------------+-------------------+----+\n",
      "|1_very_low_40_8|1_very_low_40_8_R2|173.02193691854063|0.20877659574468085|173.02193691854063|0.20877659574468085| 0.0|\n",
      "|1_very_low_40_8|1_very_low_40_8_R1|173.02193691854063|0.20877659574468085|173.02193691854063|0.20877659574468085| 0.0|\n",
      "|2_very_low_40_8|2_very_low_40_8_R1|173.02193691854063|0.20877659574468085|173.02193691854063|0.20877659574468085| 0.0|\n",
      "|2_very_low_40_8|2_very_low_40_8_R2|173.02193691854063|0.20877659574468085|173.02193691854063|0.20877659574468085| 0.0|\n",
      "|3_very_low_40_8|3_very_low_40_8_R2|173.02193691854063|0.20877659574468085|173.02193691854063|0.20877659574468085| 0.0|\n",
      "|3_very_low_40_8|3_very_low_40_8_R1|173.02193691854063|0.20877659574468085|173.02193691854063|0.20877659574468085| 0.0|\n",
      "+---------------+------------------+------------------+-------------------+------------------+-------------------+----+\n",
      "\n"
     ]
    }
   ],
   "source": [
    "results.show()"
   ],
   "metadata": {
    "collapsed": false,
    "pycharm": {
     "name": "#%%\n"
    }
   }
  },
  {
   "cell_type": "markdown",
   "source": [
    "# CAP-4: Additional number of intrusions\n",
    "Calculates the degradation produced in the intrusion safety indicator when rogue aircraft are introduced."
   ],
   "metadata": {
    "collapsed": false,
    "pycharm": {
     "name": "#%% md\n"
    }
   }
  },
  {
   "cell_type": "code",
   "execution_count": 105,
   "outputs": [],
   "source": [
    "results = results\\\n",
    "    .withColumn('CAP4', col(f'Ref_{CAP2}') - col(CAP2))"
   ],
   "metadata": {
    "collapsed": false,
    "pycharm": {
     "name": "#%%\n"
    }
   }
  },
  {
   "cell_type": "code",
   "execution_count": 106,
   "outputs": [
    {
     "name": "stdout",
     "output_type": "stream",
     "text": [
      "+---------------+------------------+------------------+-------------------+------------------+-------------------+----+----+\n",
      "|   Ref_Scenario|          Scenario|              CAP1|               CAP2|          Ref_CAP1|           Ref_CAP2|CAP3|CAP4|\n",
      "+---------------+------------------+------------------+-------------------+------------------+-------------------+----+----+\n",
      "|1_very_low_40_8|1_very_low_40_8_R2|173.02193691854063|0.20877659574468085|173.02193691854063|0.20877659574468085| 0.0| 0.0|\n",
      "|1_very_low_40_8|1_very_low_40_8_R1|173.02193691854063|0.20877659574468085|173.02193691854063|0.20877659574468085| 0.0| 0.0|\n",
      "|2_very_low_40_8|2_very_low_40_8_R1|173.02193691854063|0.20877659574468085|173.02193691854063|0.20877659574468085| 0.0| 0.0|\n",
      "|2_very_low_40_8|2_very_low_40_8_R2|173.02193691854063|0.20877659574468085|173.02193691854063|0.20877659574468085| 0.0| 0.0|\n",
      "|3_very_low_40_8|3_very_low_40_8_R2|173.02193691854063|0.20877659574468085|173.02193691854063|0.20877659574468085| 0.0| 0.0|\n",
      "|3_very_low_40_8|3_very_low_40_8_R1|173.02193691854063|0.20877659574468085|173.02193691854063|0.20877659574468085| 0.0| 0.0|\n",
      "+---------------+------------------+------------------+-------------------+------------------+-------------------+----+----+\n",
      "\n"
     ]
    }
   ],
   "source": [
    "results.show()"
   ],
   "metadata": {
    "collapsed": false,
    "pycharm": {
     "name": "#%%\n"
    }
   }
  },
  {
   "cell_type": "markdown",
   "source": [
    "Removed unnecessary columns"
   ],
   "metadata": {
    "collapsed": false
   }
  },
  {
   "cell_type": "code",
   "execution_count": 107,
   "outputs": [],
   "source": [
    "results = results.drop(f'Ref_{SCENARIO_NAME}', f'Ref_{CAP1}', f'Ref_{CAP2}')"
   ],
   "metadata": {
    "collapsed": false,
    "pycharm": {
     "name": "#%%\n"
    }
   }
  },
  {
   "cell_type": "code",
   "execution_count": 108,
   "outputs": [
    {
     "name": "stdout",
     "output_type": "stream",
     "text": [
      "+------------------+------------------+-------------------+----+----+\n",
      "|          Scenario|              CAP1|               CAP2|CAP3|CAP4|\n",
      "+------------------+------------------+-------------------+----+----+\n",
      "|1_very_low_40_8_R2|173.02193691854063|0.20877659574468085| 0.0| 0.0|\n",
      "|1_very_low_40_8_R1|173.02193691854063|0.20877659574468085| 0.0| 0.0|\n",
      "|2_very_low_40_8_R1|173.02193691854063|0.20877659574468085| 0.0| 0.0|\n",
      "|2_very_low_40_8_R2|173.02193691854063|0.20877659574468085| 0.0| 0.0|\n",
      "|3_very_low_40_8_R2|173.02193691854063|0.20877659574468085| 0.0| 0.0|\n",
      "|3_very_low_40_8_R1|173.02193691854063|0.20877659574468085| 0.0| 0.0|\n",
      "+------------------+------------------+-------------------+----+----+\n",
      "\n"
     ]
    }
   ],
   "source": [
    "results.show()"
   ],
   "metadata": {
    "collapsed": false,
    "pycharm": {
     "name": "#%%\n"
    }
   }
  }
 ],
 "metadata": {
  "kernelspec": {
   "display_name": "Python 3 (ipykernel)",
   "language": "python",
   "name": "python3"
  },
  "language_info": {
   "codemirror_mode": {
    "name": "ipython",
    "version": 3
   },
   "file_extension": ".py",
   "mimetype": "text/x-python",
   "name": "python",
   "nbconvert_exporter": "python",
   "pygments_lexer": "ipython3",
   "version": "3.8.12"
  }
 },
 "nbformat": 4,
 "nbformat_minor": 1
}